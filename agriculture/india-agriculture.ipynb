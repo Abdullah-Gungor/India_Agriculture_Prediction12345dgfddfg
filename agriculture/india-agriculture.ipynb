{
 "cells": [
  {
   "cell_type": "code",
   "execution_count": 1,
   "id": "f0e1ccdb",
   "metadata": {
    "_cell_guid": "b1076dfc-b9ad-4769-8c92-a6c4dae69d19",
    "_uuid": "8f2839f25d086af736a60e9eeb907d3b93b6e0e5",
    "execution": {
     "iopub.execute_input": "2024-10-04T10:40:17.671450Z",
     "iopub.status.busy": "2024-10-04T10:40:17.670350Z",
     "iopub.status.idle": "2024-10-04T10:40:24.280283Z",
     "shell.execute_reply": "2024-10-04T10:40:24.278974Z"
    },
    "papermill": {
     "duration": 6.631595,
     "end_time": "2024-10-04T10:40:24.283459",
     "exception": false,
     "start_time": "2024-10-04T10:40:17.651864",
     "status": "completed"
    },
    "tags": []
   },
   "outputs": [],
   "source": [
    "import pandas as pd\n",
    "import seaborn as sns\n",
    "import matplotlib.pyplot as plt\n",
    "import numpy as np\n",
    "from scipy import stats\n",
    "from sklearn.model_selection import train_test_split\n",
    "from sklearn.preprocessing import MinMaxScaler,StandardScaler,LabelEncoder\n",
    "from sklearn.metrics import mean_absolute_error, mean_squared_error,r2_score,explained_variance_score\n",
    "from scipy.stats import chi2_contingency\n",
    "import lightgbm as lgb\n",
    "from itertools import combinations \n",
    "import statsmodels.api as sm\n",
    "from statsmodels.stats.diagnostic import het_white,het_breuschpagan\n",
    "from sklearn.ensemble import GradientBoostingRegressor,RandomForestRegressor\n",
    "from sklearn.cluster import KMeans"
   ]
  },
  {
   "cell_type": "code",
   "execution_count": 2,
   "id": "6b5d6101",
   "metadata": {
    "execution": {
     "iopub.execute_input": "2024-10-04T10:40:24.317482Z",
     "iopub.status.busy": "2024-10-04T10:40:24.316796Z",
     "iopub.status.idle": "2024-10-04T10:40:25.425250Z",
     "shell.execute_reply": "2024-10-04T10:40:25.423975Z"
    },
    "papermill": {
     "duration": 1.129784,
     "end_time": "2024-10-04T10:40:25.428664",
     "exception": false,
     "start_time": "2024-10-04T10:40:24.298880",
     "status": "completed"
    },
    "tags": []
   },
   "outputs": [],
   "source": [
    "df = pd.read_csv('/kaggle/input/india-agriculture-crop-production/India Agriculture Crop Production.csv')"
   ]
  },
  {
   "cell_type": "code",
   "execution_count": 3,
   "id": "bbb29f4a",
   "metadata": {
    "execution": {
     "iopub.execute_input": "2024-10-04T10:40:25.472700Z",
     "iopub.status.busy": "2024-10-04T10:40:25.472167Z",
     "iopub.status.idle": "2024-10-04T10:40:25.506461Z",
     "shell.execute_reply": "2024-10-04T10:40:25.504907Z"
    },
    "papermill": {
     "duration": 0.059187,
     "end_time": "2024-10-04T10:40:25.509894",
     "exception": false,
     "start_time": "2024-10-04T10:40:25.450707",
     "status": "completed"
    },
    "tags": []
   },
   "outputs": [
    {
     "data": {
      "text/html": [
       "<div>\n",
       "<style scoped>\n",
       "    .dataframe tbody tr th:only-of-type {\n",
       "        vertical-align: middle;\n",
       "    }\n",
       "\n",
       "    .dataframe tbody tr th {\n",
       "        vertical-align: top;\n",
       "    }\n",
       "\n",
       "    .dataframe thead th {\n",
       "        text-align: right;\n",
       "    }\n",
       "</style>\n",
       "<table border=\"1\" class=\"dataframe\">\n",
       "  <thead>\n",
       "    <tr style=\"text-align: right;\">\n",
       "      <th></th>\n",
       "      <th>State</th>\n",
       "      <th>District</th>\n",
       "      <th>Crop</th>\n",
       "      <th>Year</th>\n",
       "      <th>Season</th>\n",
       "      <th>Area</th>\n",
       "      <th>Area Units</th>\n",
       "      <th>Production</th>\n",
       "      <th>Production Units</th>\n",
       "      <th>Yield</th>\n",
       "    </tr>\n",
       "  </thead>\n",
       "  <tbody>\n",
       "    <tr>\n",
       "      <th>0</th>\n",
       "      <td>Andaman and Nicobar Islands</td>\n",
       "      <td>NICOBARS</td>\n",
       "      <td>Arecanut</td>\n",
       "      <td>2001-02</td>\n",
       "      <td>Kharif</td>\n",
       "      <td>1254.0</td>\n",
       "      <td>Hectare</td>\n",
       "      <td>2061.0</td>\n",
       "      <td>Tonnes</td>\n",
       "      <td>1.643541</td>\n",
       "    </tr>\n",
       "    <tr>\n",
       "      <th>1</th>\n",
       "      <td>Andaman and Nicobar Islands</td>\n",
       "      <td>NICOBARS</td>\n",
       "      <td>Arecanut</td>\n",
       "      <td>2002-03</td>\n",
       "      <td>Whole Year</td>\n",
       "      <td>1258.0</td>\n",
       "      <td>Hectare</td>\n",
       "      <td>2083.0</td>\n",
       "      <td>Tonnes</td>\n",
       "      <td>1.655803</td>\n",
       "    </tr>\n",
       "    <tr>\n",
       "      <th>2</th>\n",
       "      <td>Andaman and Nicobar Islands</td>\n",
       "      <td>NICOBARS</td>\n",
       "      <td>Arecanut</td>\n",
       "      <td>2003-04</td>\n",
       "      <td>Whole Year</td>\n",
       "      <td>1261.0</td>\n",
       "      <td>Hectare</td>\n",
       "      <td>1525.0</td>\n",
       "      <td>Tonnes</td>\n",
       "      <td>1.209358</td>\n",
       "    </tr>\n",
       "    <tr>\n",
       "      <th>3</th>\n",
       "      <td>Andaman and Nicobar Islands</td>\n",
       "      <td>NORTH AND MIDDLE ANDAMAN</td>\n",
       "      <td>Arecanut</td>\n",
       "      <td>2001-02</td>\n",
       "      <td>Kharif</td>\n",
       "      <td>3100.0</td>\n",
       "      <td>Hectare</td>\n",
       "      <td>5239.0</td>\n",
       "      <td>Tonnes</td>\n",
       "      <td>1.690000</td>\n",
       "    </tr>\n",
       "    <tr>\n",
       "      <th>4</th>\n",
       "      <td>Andaman and Nicobar Islands</td>\n",
       "      <td>SOUTH ANDAMANS</td>\n",
       "      <td>Arecanut</td>\n",
       "      <td>2002-03</td>\n",
       "      <td>Whole Year</td>\n",
       "      <td>3105.0</td>\n",
       "      <td>Hectare</td>\n",
       "      <td>5267.0</td>\n",
       "      <td>Tonnes</td>\n",
       "      <td>1.696296</td>\n",
       "    </tr>\n",
       "  </tbody>\n",
       "</table>\n",
       "</div>"
      ],
      "text/plain": [
       "                         State                  District      Crop     Year  \\\n",
       "0  Andaman and Nicobar Islands                  NICOBARS  Arecanut  2001-02   \n",
       "1  Andaman and Nicobar Islands                  NICOBARS  Arecanut  2002-03   \n",
       "2  Andaman and Nicobar Islands                  NICOBARS  Arecanut  2003-04   \n",
       "3  Andaman and Nicobar Islands  NORTH AND MIDDLE ANDAMAN  Arecanut  2001-02   \n",
       "4  Andaman and Nicobar Islands            SOUTH ANDAMANS  Arecanut  2002-03   \n",
       "\n",
       "       Season    Area Area Units  Production Production Units     Yield  \n",
       "0      Kharif  1254.0    Hectare      2061.0           Tonnes  1.643541  \n",
       "1  Whole Year  1258.0    Hectare      2083.0           Tonnes  1.655803  \n",
       "2  Whole Year  1261.0    Hectare      1525.0           Tonnes  1.209358  \n",
       "3      Kharif  3100.0    Hectare      5239.0           Tonnes  1.690000  \n",
       "4  Whole Year  3105.0    Hectare      5267.0           Tonnes  1.696296  "
      ]
     },
     "execution_count": 3,
     "metadata": {},
     "output_type": "execute_result"
    }
   ],
   "source": [
    "df.head()\n",
    "#The Yield column is calculated as (Production / Area)"
   ]
  },
  {
   "cell_type": "code",
   "execution_count": 4,
   "id": "25a58cd6",
   "metadata": {
    "execution": {
     "iopub.execute_input": "2024-10-04T10:40:25.543091Z",
     "iopub.status.busy": "2024-10-04T10:40:25.542585Z",
     "iopub.status.idle": "2024-10-04T10:40:25.618591Z",
     "shell.execute_reply": "2024-10-04T10:40:25.616576Z"
    },
    "papermill": {
     "duration": 0.096081,
     "end_time": "2024-10-04T10:40:25.621521",
     "exception": false,
     "start_time": "2024-10-04T10:40:25.525440",
     "status": "completed"
    },
    "tags": []
   },
   "outputs": [
    {
     "name": "stdout",
     "output_type": "stream",
     "text": [
      "Year\n",
      "2019-20    19296\n",
      "2018-19    18302\n",
      "2017-18    18008\n",
      "2016-17    17418\n",
      "2015-16    16339\n",
      "2013-14    16178\n",
      "2011-12    16132\n",
      "2014-15    15587\n",
      "2009-10    15341\n",
      "2012-13    15279\n",
      "2008-09    15150\n",
      "2010-11    14889\n",
      "2007-08    14681\n",
      "2006-07    14678\n",
      "2003-04    14662\n",
      "2002-03    14182\n",
      "2004-05    14151\n",
      "2005-06    14063\n",
      "2000-01    13593\n",
      "2001-02    13307\n",
      "1999-00    13013\n",
      "1998-99    12290\n",
      "1997-98     8549\n",
      "2020-21      319\n",
      "Name: count, dtype: int64\n"
     ]
    }
   ],
   "source": [
    "#I will take the starting season of all of them.\n",
    "print(df['Year'].value_counts())"
   ]
  },
  {
   "cell_type": "code",
   "execution_count": 5,
   "id": "0e800665",
   "metadata": {
    "execution": {
     "iopub.execute_input": "2024-10-04T10:40:25.661405Z",
     "iopub.status.busy": "2024-10-04T10:40:25.660927Z",
     "iopub.status.idle": "2024-10-04T10:40:26.107958Z",
     "shell.execute_reply": "2024-10-04T10:40:26.106696Z"
    },
    "papermill": {
     "duration": 0.467864,
     "end_time": "2024-10-04T10:40:26.110727",
     "exception": false,
     "start_time": "2024-10-04T10:40:25.642863",
     "status": "completed"
    },
    "tags": []
   },
   "outputs": [
    {
     "name": "stdout",
     "output_type": "stream",
     "text": [
      "<class 'pandas.core.frame.DataFrame'>\n",
      "RangeIndex: 345407 entries, 0 to 345406\n",
      "Data columns (total 10 columns):\n",
      " #   Column            Non-Null Count   Dtype  \n",
      "---  ------            --------------   -----  \n",
      " 0   State             345407 non-null  object \n",
      " 1   District          345407 non-null  object \n",
      " 2   Crop              345375 non-null  object \n",
      " 3   Year              345407 non-null  int64  \n",
      " 4   Season            345406 non-null  object \n",
      " 5   Area              345374 non-null  float64\n",
      " 6   Area Units        345407 non-null  object \n",
      " 7   Production        340414 non-null  float64\n",
      " 8   Production Units  345407 non-null  object \n",
      " 9   Yield             345374 non-null  float64\n",
      "dtypes: float64(3), int64(1), object(6)\n",
      "memory usage: 26.4+ MB\n"
     ]
    }
   ],
   "source": [
    "df['Year'] = df['Year'].str[:4].astype(int)\n",
    "df.info()"
   ]
  },
  {
   "cell_type": "code",
   "execution_count": 6,
   "id": "0dfa3986",
   "metadata": {
    "execution": {
     "iopub.execute_input": "2024-10-04T10:40:26.145151Z",
     "iopub.status.busy": "2024-10-04T10:40:26.144752Z",
     "iopub.status.idle": "2024-10-04T10:40:26.485170Z",
     "shell.execute_reply": "2024-10-04T10:40:26.484046Z"
    },
    "papermill": {
     "duration": 0.360953,
     "end_time": "2024-10-04T10:40:26.487810",
     "exception": false,
     "start_time": "2024-10-04T10:40:26.126857",
     "status": "completed"
    },
    "tags": []
   },
   "outputs": [
    {
     "data": {
      "text/plain": [
       "Area Units\n",
       "Hectare    340414\n",
       "Name: count, dtype: int64"
      ]
     },
     "execution_count": 6,
     "metadata": {},
     "output_type": "execute_result"
    }
   ],
   "source": [
    "#I deleted most of the null values because they were in the value we were going to predict.\n",
    "df = df.dropna()\n",
    "df['Area Units'].value_counts().sort_values()"
   ]
  },
  {
   "cell_type": "code",
   "execution_count": 7,
   "id": "2624ebcf",
   "metadata": {
    "execution": {
     "iopub.execute_input": "2024-10-04T10:40:26.521173Z",
     "iopub.status.busy": "2024-10-04T10:40:26.520747Z",
     "iopub.status.idle": "2024-10-04T10:40:26.573856Z",
     "shell.execute_reply": "2024-10-04T10:40:26.572705Z"
    },
    "papermill": {
     "duration": 0.072906,
     "end_time": "2024-10-04T10:40:26.576466",
     "exception": false,
     "start_time": "2024-10-04T10:40:26.503560",
     "status": "completed"
    },
    "tags": []
   },
   "outputs": [
    {
     "data": {
      "text/html": [
       "<div>\n",
       "<style scoped>\n",
       "    .dataframe tbody tr th:only-of-type {\n",
       "        vertical-align: middle;\n",
       "    }\n",
       "\n",
       "    .dataframe tbody tr th {\n",
       "        vertical-align: top;\n",
       "    }\n",
       "\n",
       "    .dataframe thead th {\n",
       "        text-align: right;\n",
       "    }\n",
       "</style>\n",
       "<table border=\"1\" class=\"dataframe\">\n",
       "  <thead>\n",
       "    <tr style=\"text-align: right;\">\n",
       "      <th></th>\n",
       "      <th>State</th>\n",
       "      <th>District</th>\n",
       "      <th>Crop</th>\n",
       "      <th>Year</th>\n",
       "      <th>Season</th>\n",
       "      <th>Area</th>\n",
       "      <th>Production</th>\n",
       "      <th>Production Units</th>\n",
       "      <th>Yield</th>\n",
       "    </tr>\n",
       "  </thead>\n",
       "  <tbody>\n",
       "    <tr>\n",
       "      <th>0</th>\n",
       "      <td>Andaman and Nicobar Islands</td>\n",
       "      <td>NICOBARS</td>\n",
       "      <td>Arecanut</td>\n",
       "      <td>2001</td>\n",
       "      <td>Kharif</td>\n",
       "      <td>1254.0</td>\n",
       "      <td>2061.0</td>\n",
       "      <td>Tonnes</td>\n",
       "      <td>1.643541</td>\n",
       "    </tr>\n",
       "    <tr>\n",
       "      <th>1</th>\n",
       "      <td>Andaman and Nicobar Islands</td>\n",
       "      <td>NICOBARS</td>\n",
       "      <td>Arecanut</td>\n",
       "      <td>2002</td>\n",
       "      <td>Whole Year</td>\n",
       "      <td>1258.0</td>\n",
       "      <td>2083.0</td>\n",
       "      <td>Tonnes</td>\n",
       "      <td>1.655803</td>\n",
       "    </tr>\n",
       "    <tr>\n",
       "      <th>2</th>\n",
       "      <td>Andaman and Nicobar Islands</td>\n",
       "      <td>NICOBARS</td>\n",
       "      <td>Arecanut</td>\n",
       "      <td>2003</td>\n",
       "      <td>Whole Year</td>\n",
       "      <td>1261.0</td>\n",
       "      <td>1525.0</td>\n",
       "      <td>Tonnes</td>\n",
       "      <td>1.209358</td>\n",
       "    </tr>\n",
       "    <tr>\n",
       "      <th>3</th>\n",
       "      <td>Andaman and Nicobar Islands</td>\n",
       "      <td>NORTH AND MIDDLE ANDAMAN</td>\n",
       "      <td>Arecanut</td>\n",
       "      <td>2001</td>\n",
       "      <td>Kharif</td>\n",
       "      <td>3100.0</td>\n",
       "      <td>5239.0</td>\n",
       "      <td>Tonnes</td>\n",
       "      <td>1.690000</td>\n",
       "    </tr>\n",
       "    <tr>\n",
       "      <th>4</th>\n",
       "      <td>Andaman and Nicobar Islands</td>\n",
       "      <td>SOUTH ANDAMANS</td>\n",
       "      <td>Arecanut</td>\n",
       "      <td>2002</td>\n",
       "      <td>Whole Year</td>\n",
       "      <td>3105.0</td>\n",
       "      <td>5267.0</td>\n",
       "      <td>Tonnes</td>\n",
       "      <td>1.696296</td>\n",
       "    </tr>\n",
       "  </tbody>\n",
       "</table>\n",
       "</div>"
      ],
      "text/plain": [
       "                         State                  District      Crop  Year  \\\n",
       "0  Andaman and Nicobar Islands                  NICOBARS  Arecanut  2001   \n",
       "1  Andaman and Nicobar Islands                  NICOBARS  Arecanut  2002   \n",
       "2  Andaman and Nicobar Islands                  NICOBARS  Arecanut  2003   \n",
       "3  Andaman and Nicobar Islands  NORTH AND MIDDLE ANDAMAN  Arecanut  2001   \n",
       "4  Andaman and Nicobar Islands            SOUTH ANDAMANS  Arecanut  2002   \n",
       "\n",
       "       Season    Area  Production Production Units     Yield  \n",
       "0      Kharif  1254.0      2061.0           Tonnes  1.643541  \n",
       "1  Whole Year  1258.0      2083.0           Tonnes  1.655803  \n",
       "2  Whole Year  1261.0      1525.0           Tonnes  1.209358  \n",
       "3      Kharif  3100.0      5239.0           Tonnes  1.690000  \n",
       "4  Whole Year  3105.0      5267.0           Tonnes  1.696296  "
      ]
     },
     "execution_count": 7,
     "metadata": {},
     "output_type": "execute_result"
    }
   ],
   "source": [
    "#I am deleting this column because everything is in hectares\n",
    "df = df.drop('Area Units',axis = 1)\n",
    "df.head()"
   ]
  },
  {
   "cell_type": "code",
   "execution_count": 8,
   "id": "e97b850c",
   "metadata": {
    "execution": {
     "iopub.execute_input": "2024-10-04T10:40:26.611372Z",
     "iopub.status.busy": "2024-10-04T10:40:26.610950Z",
     "iopub.status.idle": "2024-10-04T10:40:26.679153Z",
     "shell.execute_reply": "2024-10-04T10:40:26.677939Z"
    },
    "papermill": {
     "duration": 0.08821,
     "end_time": "2024-10-04T10:40:26.681594",
     "exception": false,
     "start_time": "2024-10-04T10:40:26.593384",
     "status": "completed"
    },
    "tags": []
   },
   "outputs": [
    {
     "name": "stdout",
     "output_type": "stream",
     "text": [
      "Production Units\n",
      "Nuts        2891\n",
      "Bales      10524\n",
      "Tonnes    326999\n",
      "Name: count, dtype: int64\n"
     ]
    }
   ],
   "source": [
    "#Since the weights in bales and coconuts are very few, I will convert them all to tons\n",
    "print(df['Production Units'].value_counts().sort_values())"
   ]
  },
  {
   "cell_type": "code",
   "execution_count": 9,
   "id": "ed2a6459",
   "metadata": {
    "execution": {
     "iopub.execute_input": "2024-10-04T10:40:26.717274Z",
     "iopub.status.busy": "2024-10-04T10:40:26.716901Z",
     "iopub.status.idle": "2024-10-04T10:40:26.855434Z",
     "shell.execute_reply": "2024-10-04T10:40:26.853550Z"
    },
    "papermill": {
     "duration": 0.159118,
     "end_time": "2024-10-04T10:40:26.858264",
     "exception": false,
     "start_time": "2024-10-04T10:40:26.699146",
     "status": "completed"
    },
    "tags": []
   },
   "outputs": [
    {
     "name": "stdout",
     "output_type": "stream",
     "text": [
      "Crop\n",
      "Jute            1837\n",
      "Mesta           2369\n",
      "Cotton(lint)    6318\n",
      "Name: count, dtype: int64\n",
      "\n",
      " Crop\n",
      "Coconut    2891\n",
      "Name: count, dtype: int64\n"
     ]
    }
   ],
   "source": [
    "print(df[df['Production Units'] == 'Bales']['Crop'].value_counts().sort_values())\n",
    "print('\\n',df[df['Production Units'] == 'Nuts']['Crop'].value_counts().sort_values())"
   ]
  },
  {
   "cell_type": "code",
   "execution_count": 10,
   "id": "c6301904",
   "metadata": {
    "execution": {
     "iopub.execute_input": "2024-10-04T10:40:26.893132Z",
     "iopub.status.busy": "2024-10-04T10:40:26.892302Z",
     "iopub.status.idle": "2024-10-04T10:40:27.427698Z",
     "shell.execute_reply": "2024-10-04T10:40:27.426638Z"
    },
    "papermill": {
     "duration": 0.555716,
     "end_time": "2024-10-04T10:40:27.430247",
     "exception": false,
     "start_time": "2024-10-04T10:40:26.874531",
     "status": "completed"
    },
    "tags": []
   },
   "outputs": [
    {
     "data": {
      "text/html": [
       "<div>\n",
       "<style scoped>\n",
       "    .dataframe tbody tr th:only-of-type {\n",
       "        vertical-align: middle;\n",
       "    }\n",
       "\n",
       "    .dataframe tbody tr th {\n",
       "        vertical-align: top;\n",
       "    }\n",
       "\n",
       "    .dataframe thead th {\n",
       "        text-align: right;\n",
       "    }\n",
       "</style>\n",
       "<table border=\"1\" class=\"dataframe\">\n",
       "  <thead>\n",
       "    <tr style=\"text-align: right;\">\n",
       "      <th></th>\n",
       "      <th>State</th>\n",
       "      <th>District</th>\n",
       "      <th>Crop</th>\n",
       "      <th>Year</th>\n",
       "      <th>Season</th>\n",
       "      <th>Area</th>\n",
       "      <th>Production</th>\n",
       "      <th>Yield</th>\n",
       "    </tr>\n",
       "  </thead>\n",
       "  <tbody>\n",
       "    <tr>\n",
       "      <th>0</th>\n",
       "      <td>Andaman and Nicobar Islands</td>\n",
       "      <td>NICOBARS</td>\n",
       "      <td>Arecanut</td>\n",
       "      <td>2001</td>\n",
       "      <td>Kharif</td>\n",
       "      <td>1254.0</td>\n",
       "      <td>2061.0</td>\n",
       "      <td>1.643541</td>\n",
       "    </tr>\n",
       "    <tr>\n",
       "      <th>1</th>\n",
       "      <td>Andaman and Nicobar Islands</td>\n",
       "      <td>NICOBARS</td>\n",
       "      <td>Arecanut</td>\n",
       "      <td>2002</td>\n",
       "      <td>Whole Year</td>\n",
       "      <td>1258.0</td>\n",
       "      <td>2083.0</td>\n",
       "      <td>1.655803</td>\n",
       "    </tr>\n",
       "    <tr>\n",
       "      <th>2</th>\n",
       "      <td>Andaman and Nicobar Islands</td>\n",
       "      <td>NICOBARS</td>\n",
       "      <td>Arecanut</td>\n",
       "      <td>2003</td>\n",
       "      <td>Whole Year</td>\n",
       "      <td>1261.0</td>\n",
       "      <td>1525.0</td>\n",
       "      <td>1.209358</td>\n",
       "    </tr>\n",
       "    <tr>\n",
       "      <th>3</th>\n",
       "      <td>Andaman and Nicobar Islands</td>\n",
       "      <td>NORTH AND MIDDLE ANDAMAN</td>\n",
       "      <td>Arecanut</td>\n",
       "      <td>2001</td>\n",
       "      <td>Kharif</td>\n",
       "      <td>3100.0</td>\n",
       "      <td>5239.0</td>\n",
       "      <td>1.690000</td>\n",
       "    </tr>\n",
       "    <tr>\n",
       "      <th>4</th>\n",
       "      <td>Andaman and Nicobar Islands</td>\n",
       "      <td>SOUTH ANDAMANS</td>\n",
       "      <td>Arecanut</td>\n",
       "      <td>2002</td>\n",
       "      <td>Whole Year</td>\n",
       "      <td>3105.0</td>\n",
       "      <td>5267.0</td>\n",
       "      <td>1.696296</td>\n",
       "    </tr>\n",
       "  </tbody>\n",
       "</table>\n",
       "</div>"
      ],
      "text/plain": [
       "                         State                  District      Crop  Year  \\\n",
       "0  Andaman and Nicobar Islands                  NICOBARS  Arecanut  2001   \n",
       "1  Andaman and Nicobar Islands                  NICOBARS  Arecanut  2002   \n",
       "2  Andaman and Nicobar Islands                  NICOBARS  Arecanut  2003   \n",
       "3  Andaman and Nicobar Islands  NORTH AND MIDDLE ANDAMAN  Arecanut  2001   \n",
       "4  Andaman and Nicobar Islands            SOUTH ANDAMANS  Arecanut  2002   \n",
       "\n",
       "       Season    Area  Production     Yield  \n",
       "0      Kharif  1254.0      2061.0  1.643541  \n",
       "1  Whole Year  1258.0      2083.0  1.655803  \n",
       "2  Whole Year  1261.0      1525.0  1.209358  \n",
       "3      Kharif  3100.0      5239.0  1.690000  \n",
       "4  Whole Year  3105.0      5267.0  1.696296  "
      ]
     },
     "execution_count": 10,
     "metadata": {},
     "output_type": "execute_result"
    }
   ],
   "source": [
    "#I will convert the weight of each product separately into tons\n",
    "df.loc[df['Crop'] == 'Cotton(lint)','Production'] = (df.loc[df['Crop'] == 'Cotton(lint)','Production']*170)/1000\n",
    "df.loc[df['Crop'] == 'Jute','Production'] = (df.loc[df['Crop'] == 'Jute','Production']*180)/1000\n",
    "df.loc[df['Crop'] == 'Mesta','Production'] = (df.loc[df['Crop'] == 'Mesta','Production']*180)/1000\n",
    "df.loc[df['Crop'] == 'Coconut','Production'] = (df.loc[df['Crop'] == 'Coconut','Production']*1.5)/1000\n",
    "df = df.drop('Production Units',axis = 1)\n",
    "df.head()"
   ]
  },
  {
   "cell_type": "code",
   "execution_count": 11,
   "id": "e5dc0241",
   "metadata": {
    "execution": {
     "iopub.execute_input": "2024-10-04T10:40:27.465063Z",
     "iopub.status.busy": "2024-10-04T10:40:27.464653Z",
     "iopub.status.idle": "2024-10-04T10:40:27.495993Z",
     "shell.execute_reply": "2024-10-04T10:40:27.494903Z"
    },
    "papermill": {
     "duration": 0.052043,
     "end_time": "2024-10-04T10:40:27.498856",
     "exception": false,
     "start_time": "2024-10-04T10:40:27.446813",
     "status": "completed"
    },
    "tags": []
   },
   "outputs": [],
   "source": [
    "#Since we are performing direct operations on Production here, we will need to recalculate the Yield as well\n",
    "df = df.drop('Yield',axis = 1)\n",
    "df['Yield'] = df['Production'] / df['Area']"
   ]
  },
  {
   "cell_type": "code",
   "execution_count": 12,
   "id": "a9634812",
   "metadata": {
    "execution": {
     "iopub.execute_input": "2024-10-04T10:40:27.534002Z",
     "iopub.status.busy": "2024-10-04T10:40:27.533600Z",
     "iopub.status.idle": "2024-10-04T10:40:27.602052Z",
     "shell.execute_reply": "2024-10-04T10:40:27.600806Z"
    },
    "papermill": {
     "duration": 0.089138,
     "end_time": "2024-10-04T10:40:27.604866",
     "exception": false,
     "start_time": "2024-10-04T10:40:27.515728",
     "status": "completed"
    },
    "tags": []
   },
   "outputs": [
    {
     "name": "stdout",
     "output_type": "stream",
     "text": [
      "Crop\n",
      "Dry Ginger                   3\n",
      "Other Summer Pulses         66\n",
      "Cardamom                   483\n",
      "Oilseeds total             702\n",
      "other oilseeds            1190\n",
      "Moth                      1287\n",
      "Other Cereals             1338\n",
      "Black pepper              1370\n",
      "Cashewnut                 1519\n",
      "Cowpea(Lobia)             1697\n",
      "Safflower                 1727\n",
      "Khesari                   1753\n",
      "Jute                      1837\n",
      "Guar seed                 2045\n",
      "Arecanut                  2150\n",
      "Tapioca                   2264\n",
      "Mesta                     2369\n",
      "Niger seed                2707\n",
      "Sannhamp                  2738\n",
      "Coconut                   2891\n",
      "Tobacco                   3513\n",
      "Banana                    4393\n",
      "Castor seed               4496\n",
      "Ginger                    4652\n",
      "Other Rabi pulses         4728\n",
      "Soyabean                  4953\n",
      "Coriander                 4954\n",
      "Garlic                    4958\n",
      "Horse-gram                5294\n",
      "Other Kharif pulses       5590\n",
      "Sweet potato              5656\n",
      "Ragi                      5725\n",
      "Linseed                   5793\n",
      "Barley                    5808\n",
      "Turmeric                  5916\n",
      "Masoor                    6296\n",
      "Cotton(lint)              6318\n",
      "Small millets             6859\n",
      "Sunflower                 7104\n",
      "Peas & beans (Pulses)     7179\n",
      "Bajra                     7740\n",
      "Dry chillies              8890\n",
      "Jowar                     9682\n",
      "Gram                     10330\n",
      "Onion                    10621\n",
      "Potato                   10729\n",
      "Arhar/Tur                10774\n",
      "Sugarcane                10826\n",
      "Rapeseed &Mustard        10919\n",
      "Wheat                    11219\n",
      "Groundnut                12515\n",
      "Sesamum                  12744\n",
      "Urad                     14389\n",
      "Moong(Green Gram)        14813\n",
      "Maize                    20329\n",
      "Rice                     21573\n",
      "Name: count, dtype: int64\n"
     ]
    }
   ],
   "source": [
    "#I will group some crops with a small number of occurrences as \"Other\"\n",
    "print(df['Crop'].value_counts().sort_values())"
   ]
  },
  {
   "cell_type": "code",
   "execution_count": 13,
   "id": "54814d0f",
   "metadata": {
    "execution": {
     "iopub.execute_input": "2024-10-04T10:40:27.641454Z",
     "iopub.status.busy": "2024-10-04T10:40:27.640536Z",
     "iopub.status.idle": "2024-10-04T10:40:27.770214Z",
     "shell.execute_reply": "2024-10-04T10:40:27.768874Z"
    },
    "papermill": {
     "duration": 0.150771,
     "end_time": "2024-10-04T10:40:27.772844",
     "exception": false,
     "start_time": "2024-10-04T10:40:27.622073",
     "status": "completed"
    },
    "tags": []
   },
   "outputs": [
    {
     "name": "stdout",
     "output_type": "stream",
     "text": [
      "State\n",
      "Laddakh                            1\n",
      "Daman and Diu                     42\n",
      "Chandigarh                       123\n",
      "Delhi                            203\n",
      "Dadra and Nagar Haveli           329\n",
      "Goa                              398\n",
      "Andaman and Nicobar Islands      725\n",
      "Sikkim                           876\n",
      "Puducherry                      1123\n",
      "Mizoram                         2108\n",
      "Tripura                         2557\n",
      "Manipur                         3092\n",
      "Punjab                          4098\n",
      "Meghalaya                       4322\n",
      "Jammu and Kashmir               4342\n",
      "Arunachal Pradesh               4344\n",
      "Kerala                          4642\n",
      "Telangana                       4662\n",
      "Himachal Pradesh                4974\n",
      "Jharkhand                       4991\n",
      "Nagaland                        5674\n",
      "Uttarakhand                     6628\n",
      "Haryana                         6931\n",
      "West Bengal                    12580\n",
      "Gujarat                        13968\n",
      "Chhattisgarh                   14732\n",
      "Odisha                         16101\n",
      "Andhra Pradesh                 16162\n",
      "Maharashtra                    17615\n",
      "Tamil Nadu                     18051\n",
      "Assam                          18179\n",
      "Rajasthan                      19743\n",
      "Bihar                          24686\n",
      "Karnataka                      27322\n",
      "Madhya Pradesh                 29455\n",
      "Uttar Pradesh                  44635\n",
      "Name: count, dtype: int64\n"
     ]
    },
    {
     "data": {
      "text/plain": [
       "36"
      ]
     },
     "execution_count": 13,
     "metadata": {},
     "output_type": "execute_result"
    }
   ],
   "source": [
    "#I will group some states with a small number of occurrences as \"Other\"\n",
    "print(df['State'].value_counts().sort_values())\n",
    "len(df['State'].value_counts().sort_values())"
   ]
  },
  {
   "cell_type": "code",
   "execution_count": 14,
   "id": "7cd882e6",
   "metadata": {
    "execution": {
     "iopub.execute_input": "2024-10-04T10:40:27.808827Z",
     "iopub.status.busy": "2024-10-04T10:40:27.808242Z",
     "iopub.status.idle": "2024-10-04T10:40:27.877386Z",
     "shell.execute_reply": "2024-10-04T10:40:27.875789Z"
    },
    "papermill": {
     "duration": 0.090063,
     "end_time": "2024-10-04T10:40:27.879895",
     "exception": false,
     "start_time": "2024-10-04T10:40:27.789832",
     "status": "completed"
    },
    "tags": []
   },
   "outputs": [
    {
     "name": "stdout",
     "output_type": "stream",
     "text": [
      "District\n",
      "MUMBAI                        1\n",
      "SOUTH SALMARA MANCACHAR       1\n",
      "CHENNAI                       1\n",
      "MAJULI                        2\n",
      "MUMBAI SUBURBAN               2\n",
      "                           ... \n",
      "HAVERI                     1142\n",
      "DAVANGERE                  1142\n",
      "AURANGABAD                 1151\n",
      "BIJAPUR                    1165\n",
      "BILASPUR                   1214\n",
      "Name: count, Length: 728, dtype: int64\n"
     ]
    }
   ],
   "source": [
    "#I will group some districts with a small number of occurrences as \"Other\"\n",
    "print(df['District'].value_counts().sort_values())"
   ]
  },
  {
   "cell_type": "code",
   "execution_count": 15,
   "id": "28b376d9",
   "metadata": {
    "execution": {
     "iopub.execute_input": "2024-10-04T10:40:27.916401Z",
     "iopub.status.busy": "2024-10-04T10:40:27.915420Z",
     "iopub.status.idle": "2024-10-04T10:40:27.983067Z",
     "shell.execute_reply": "2024-10-04T10:40:27.981811Z"
    },
    "papermill": {
     "duration": 0.088712,
     "end_time": "2024-10-04T10:40:27.985717",
     "exception": false,
     "start_time": "2024-10-04T10:40:27.897005",
     "status": "completed"
    },
    "tags": []
   },
   "outputs": [
    {
     "name": "stdout",
     "output_type": "stream",
     "text": [
      "Season\n",
      "Autumn          6967\n",
      "Winter          8238\n",
      "Summer         21974\n",
      "Whole Year     67265\n",
      "Rabi           99805\n",
      "Kharif        136165\n",
      "Name: count, dtype: int64\n"
     ]
    }
   ],
   "source": [
    "#Since each season appears frequently enough here, grouping them as \"Other\" is not reasonable\n",
    "print(df['Season'].value_counts().sort_values())"
   ]
  },
  {
   "cell_type": "code",
   "execution_count": 16,
   "id": "887d9c9f",
   "metadata": {
    "execution": {
     "iopub.execute_input": "2024-10-04T10:40:28.022869Z",
     "iopub.status.busy": "2024-10-04T10:40:28.022371Z",
     "iopub.status.idle": "2024-10-04T10:40:28.068044Z",
     "shell.execute_reply": "2024-10-04T10:40:28.066466Z"
    },
    "papermill": {
     "duration": 0.067373,
     "end_time": "2024-10-04T10:40:28.071010",
     "exception": false,
     "start_time": "2024-10-04T10:40:28.003637",
     "status": "completed"
    },
    "tags": []
   },
   "outputs": [
    {
     "name": "stdout",
     "output_type": "stream",
     "text": [
      "            Production     Yield      Year      Area\n",
      "Production    1.000000  0.180433  0.003618  0.256061\n",
      "Yield         0.180433  1.000000  0.016501 -0.008963\n",
      "Year          0.003618  0.016501  1.000000 -0.024091\n",
      "Area          0.256061 -0.008963 -0.024091  1.000000\n"
     ]
    }
   ],
   "source": [
    "#I am looking at the relationships between numeric features.\n",
    "print(df[['Production', 'Yield', 'Year', 'Area']].corr())\n",
    "#I will remove the Year feature because it has very little effect on Production"
   ]
  },
  {
   "cell_type": "code",
   "execution_count": 17,
   "id": "61e3eff4",
   "metadata": {
    "execution": {
     "iopub.execute_input": "2024-10-04T10:40:28.107617Z",
     "iopub.status.busy": "2024-10-04T10:40:28.107151Z",
     "iopub.status.idle": "2024-10-04T10:41:20.955912Z",
     "shell.execute_reply": "2024-10-04T10:41:20.954362Z"
    },
    "papermill": {
     "duration": 52.870058,
     "end_time": "2024-10-04T10:41:20.958470",
     "exception": false,
     "start_time": "2024-10-04T10:40:28.088412",
     "status": "completed"
    },
    "tags": []
   },
   "outputs": [
    {
     "name": "stdout",
     "output_type": "stream",
     "text": [
      "Production & State: 0.09533607892287271\n",
      "Production & District: 0.18174436633531332\n",
      "Production & Crop: 0.3181276238558495\n",
      "Production & Season: 0.06659807270315289\n"
     ]
    }
   ],
   "source": [
    "#I am looking at the eta coefficient between Production and categorical features.\n",
    "\n",
    "columns = ['State','District','Crop','Season']\n",
    "for i in columns:\n",
    "    \n",
    "    kategoriler = df[i].unique() \n",
    "    production_ort = df['Production'].mean()\n",
    "    toplam = 0\n",
    "    for j in df['Production']:\n",
    "        toplam += (j-production_ort)**2\n",
    "    top_varyans = toplam / (len(df['Production'])-1)\n",
    "\n",
    "    grup_ort = df.groupby(i)['Production'].mean()\n",
    "    toplam2 = 0\n",
    "    for isim,ort in grup_ort.items():\n",
    "        kategorik_adedi = len(df[df[i] == isim])\n",
    "        toplam2 += ((ort-production_ort)**2)*kategorik_adedi\n",
    "    gruplar_varyans = toplam2/((len(df)-len(grup_ort)))\n",
    "    print(f'Production & {i}: {(gruplar_varyans/top_varyans)**0.5}')"
   ]
  },
  {
   "cell_type": "code",
   "execution_count": 18,
   "id": "c8f52597",
   "metadata": {
    "execution": {
     "iopub.execute_input": "2024-10-04T10:41:20.996137Z",
     "iopub.status.busy": "2024-10-04T10:41:20.995682Z",
     "iopub.status.idle": "2024-10-04T10:41:22.232928Z",
     "shell.execute_reply": "2024-10-04T10:41:22.231554Z"
    },
    "papermill": {
     "duration": 1.259254,
     "end_time": "2024-10-04T10:41:22.235554",
     "exception": false,
     "start_time": "2024-10-04T10:41:20.976300",
     "status": "completed"
    },
    "tags": []
   },
   "outputs": [
    {
     "name": "stdout",
     "output_type": "stream",
     "text": [
      "State ile District arasındaki ilişki: 0.9703714218392978\n",
      "State ile Crop arasındaki ilişki: 0.14601117583157236\n",
      "District ile Crop arasındaki ilişki: 0.13804650894154016\n",
      "Season ile Crop arasındaki ilişki: 0.5200700538708223\n",
      "Season ile District arasındaki ilişki: 0.31499231625480767\n",
      "Season ile State arasındaki ilişki: 0.30830998159024825\n"
     ]
    }
   ],
   "source": [
    "#I am looking at the Cramér's V coefficient between categorical features.\n",
    "\n",
    "column_pairs = [\n",
    "    ('State', 'District'),\n",
    "    ('State', 'Crop'),\n",
    "    ('District', 'Crop'),\n",
    "    ('Season', 'Crop'),\n",
    "    ('Season', 'District'),\n",
    "    ('Season', 'State')\n",
    "]\n",
    "for col1, col2 in column_pairs:\n",
    "    kontenjans = pd.crosstab(df[col1], df[col2])\n",
    "    ki_kare, p, sd, beklenen = chi2_contingency(kontenjans)\n",
    "    beklenen = np.round(beklenen, 2)\n",
    "    \n",
    "    k = len(kontenjans.columns)  \n",
    "    r = len(kontenjans.index)\n",
    "    v = (ki_kare / ((len(df) * min(k-1, r-1)))) ** 0.5\n",
    "    print(f'{col1} ile {col2} arasındaki ilişki: {v}')\n",
    "    \n",
    "#There is a very strong relationship between State and District, so we need to remove one of them from the data."
   ]
  },
  {
   "cell_type": "code",
   "execution_count": 19,
   "id": "8db4fefc",
   "metadata": {
    "execution": {
     "iopub.execute_input": "2024-10-04T10:41:22.273453Z",
     "iopub.status.busy": "2024-10-04T10:41:22.273049Z",
     "iopub.status.idle": "2024-10-04T10:42:15.159131Z",
     "shell.execute_reply": "2024-10-04T10:42:15.157852Z"
    },
    "papermill": {
     "duration": 52.90815,
     "end_time": "2024-10-04T10:42:15.161761",
     "exception": false,
     "start_time": "2024-10-04T10:41:22.253611",
     "status": "completed"
    },
    "tags": []
   },
   "outputs": [
    {
     "name": "stdout",
     "output_type": "stream",
     "text": [
      "Area & State: 0.1623243159105378\n",
      "Area & District: 0.21794460690260903\n",
      "Area & Crop: 0.33858435977117124\n",
      "Area & Season: 0.11824085193321014\n"
     ]
    }
   ],
   "source": [
    "#I looked at the eta coefficient between Area and categorical data.\n",
    "\n",
    "columns = ['State','District','Crop','Season']\n",
    "for i in columns:\n",
    "    \n",
    "    kategoriler = df[i].unique() \n",
    "    numeric_ort = df['Area'].mean()\n",
    "    toplam = 0\n",
    "    for j in df['Area']:\n",
    "        toplam += (j-numeric_ort)**2\n",
    "    top_varyans = toplam / (len(df['Area'])-1)\n",
    "\n",
    "    grup_ort = df.groupby(i)['Area'].mean()\n",
    "    toplam2 = 0\n",
    "    for isim,ort in grup_ort.items():\n",
    "        kategorik_adedi = len(df[df[i] == isim])\n",
    "        toplam2 += ((ort-numeric_ort)**2)*kategorik_adedi\n",
    "    gruplar_varyans = toplam2/((len(df)-len(grup_ort)))\n",
    "    print(f'Area & {i}: {(gruplar_varyans/top_varyans)**0.5}')\n",
    "\n",
    "#There is no problem because the relationship coefficients are low."
   ]
  },
  {
   "cell_type": "code",
   "execution_count": 20,
   "id": "52fbf411",
   "metadata": {
    "execution": {
     "iopub.execute_input": "2024-10-04T10:42:15.200275Z",
     "iopub.status.busy": "2024-10-04T10:42:15.199889Z",
     "iopub.status.idle": "2024-10-04T10:43:08.047001Z",
     "shell.execute_reply": "2024-10-04T10:43:08.045564Z"
    },
    "papermill": {
     "duration": 52.8694,
     "end_time": "2024-10-04T10:43:08.049521",
     "exception": false,
     "start_time": "2024-10-04T10:42:15.180121",
     "status": "completed"
    },
    "tags": []
   },
   "outputs": [
    {
     "name": "stdout",
     "output_type": "stream",
     "text": [
      "Yield & State: 0.07614028105868537\n",
      "Yield & District: 0.0934536454096852\n",
      "Yield & Crop: 0.44644291470620623\n",
      "Yield & Season: 0.1931220636638574\n"
     ]
    }
   ],
   "source": [
    "#I looked at the eta coefficient between Yield and categorical data\n",
    "\n",
    "columns = ['State','District','Crop','Season']\n",
    "for i in columns:\n",
    "    \n",
    "    kategoriler = df[i].unique() \n",
    "    numeric_ort = df['Yield'].mean()\n",
    "    toplam = 0\n",
    "    for j in df['Yield']:\n",
    "        toplam += (j-numeric_ort)**2\n",
    "    top_varyans = toplam / (len(df['Yield'])-1)\n",
    "\n",
    "    grup_ort = df.groupby(i)['Yield'].mean()\n",
    "    toplam2 = 0\n",
    "    for isim,ort in grup_ort.items():\n",
    "        kategorik_adedi = len(df[df[i] == isim])\n",
    "        toplam2 += ((ort-numeric_ort)**2)*kategorik_adedi\n",
    "    gruplar_varyans = toplam2/((len(df)-len(grup_ort)))\n",
    "    print(f'Yield & {i}: {(gruplar_varyans/top_varyans)**0.5}')\n",
    "#There is no problem because the relationship coefficients are low."
   ]
  },
  {
   "cell_type": "code",
   "execution_count": 21,
   "id": "690f2955",
   "metadata": {
    "execution": {
     "iopub.execute_input": "2024-10-04T10:43:08.089395Z",
     "iopub.status.busy": "2024-10-04T10:43:08.088987Z",
     "iopub.status.idle": "2024-10-04T10:44:00.999614Z",
     "shell.execute_reply": "2024-10-04T10:44:00.998253Z"
    },
    "papermill": {
     "duration": 52.93388,
     "end_time": "2024-10-04T10:44:01.002352",
     "exception": false,
     "start_time": "2024-10-04T10:43:08.068472",
     "status": "completed"
    },
    "tags": []
   },
   "outputs": [
    {
     "name": "stdout",
     "output_type": "stream",
     "text": [
      "Year & State: 0.2183959418963536\n",
      "Year & District: 0.2732781520136277\n",
      "Year & Crop: 0.11236369871278169\n",
      "Year & Season: 0.09904425547404659\n"
     ]
    }
   ],
   "source": [
    "#I looked at the eta coefficient between Year and categorical data.\n",
    "\n",
    "columns = ['State','District','Crop','Season']\n",
    "for i in columns:\n",
    "    \n",
    "    kategoriler = df[i].unique() \n",
    "    numeric_ort = df['Year'].mean()\n",
    "    toplam = 0\n",
    "    for j in df['Year']:\n",
    "        toplam += (j-numeric_ort)**2\n",
    "    top_varyans = toplam / (len(df['Year'])-1)\n",
    "\n",
    "    grup_ort = df.groupby(i)['Year'].mean()\n",
    "    toplam2 = 0\n",
    "    for isim,ort in grup_ort.items():\n",
    "        kategorik_adedi = len(df[df[i] == isim])\n",
    "        toplam2 += ((ort-numeric_ort)**2)*kategorik_adedi\n",
    "    gruplar_varyans = toplam2/((len(df)-len(grup_ort)))\n",
    "    print(f'Year & {i}: {(gruplar_varyans/top_varyans)**0.5}')\n",
    "    \n",
    "#There is no problem because the relationship coefficients are low."
   ]
  },
  {
   "cell_type": "code",
   "execution_count": 22,
   "id": "ce87b57b",
   "metadata": {
    "execution": {
     "iopub.execute_input": "2024-10-04T10:44:01.043038Z",
     "iopub.status.busy": "2024-10-04T10:44:01.042631Z",
     "iopub.status.idle": "2024-10-04T10:44:01.117741Z",
     "shell.execute_reply": "2024-10-04T10:44:01.116675Z"
    },
    "papermill": {
     "duration": 0.098652,
     "end_time": "2024-10-04T10:44:01.120540",
     "exception": false,
     "start_time": "2024-10-04T10:44:01.021888",
     "status": "completed"
    },
    "tags": []
   },
   "outputs": [
    {
     "data": {
      "text/html": [
       "<div>\n",
       "<style scoped>\n",
       "    .dataframe tbody tr th:only-of-type {\n",
       "        vertical-align: middle;\n",
       "    }\n",
       "\n",
       "    .dataframe tbody tr th {\n",
       "        vertical-align: top;\n",
       "    }\n",
       "\n",
       "    .dataframe thead th {\n",
       "        text-align: right;\n",
       "    }\n",
       "</style>\n",
       "<table border=\"1\" class=\"dataframe\">\n",
       "  <thead>\n",
       "    <tr style=\"text-align: right;\">\n",
       "      <th></th>\n",
       "      <th>Year</th>\n",
       "      <th>Area</th>\n",
       "      <th>Production</th>\n",
       "      <th>Yield</th>\n",
       "    </tr>\n",
       "  </thead>\n",
       "  <tbody>\n",
       "    <tr>\n",
       "      <th>count</th>\n",
       "      <td>340414.000000</td>\n",
       "      <td>3.404140e+05</td>\n",
       "      <td>3.404140e+05</td>\n",
       "      <td>340414.000000</td>\n",
       "    </tr>\n",
       "    <tr>\n",
       "      <th>mean</th>\n",
       "      <td>2008.884267</td>\n",
       "      <td>1.182535e+04</td>\n",
       "      <td>4.495196e+04</td>\n",
       "      <td>4.619515</td>\n",
       "    </tr>\n",
       "    <tr>\n",
       "      <th>std</th>\n",
       "      <td>6.574831</td>\n",
       "      <td>4.612484e+04</td>\n",
       "      <td>3.779767e+05</td>\n",
       "      <td>23.403637</td>\n",
       "    </tr>\n",
       "    <tr>\n",
       "      <th>min</th>\n",
       "      <td>1997.000000</td>\n",
       "      <td>8.000000e-03</td>\n",
       "      <td>0.000000e+00</td>\n",
       "      <td>0.000000</td>\n",
       "    </tr>\n",
       "    <tr>\n",
       "      <th>25%</th>\n",
       "      <td>2003.000000</td>\n",
       "      <td>8.000000e+01</td>\n",
       "      <td>8.300000e+01</td>\n",
       "      <td>0.538462</td>\n",
       "    </tr>\n",
       "    <tr>\n",
       "      <th>50%</th>\n",
       "      <td>2009.000000</td>\n",
       "      <td>5.630000e+02</td>\n",
       "      <td>6.910000e+02</td>\n",
       "      <td>1.000000</td>\n",
       "    </tr>\n",
       "    <tr>\n",
       "      <th>75%</th>\n",
       "      <td>2015.000000</td>\n",
       "      <td>4.257000e+03</td>\n",
       "      <td>6.628000e+03</td>\n",
       "      <td>2.340059</td>\n",
       "    </tr>\n",
       "    <tr>\n",
       "      <th>max</th>\n",
       "      <td>2020.000000</td>\n",
       "      <td>8.580100e+06</td>\n",
       "      <td>2.069354e+07</td>\n",
       "      <td>9801.000000</td>\n",
       "    </tr>\n",
       "  </tbody>\n",
       "</table>\n",
       "</div>"
      ],
      "text/plain": [
       "                Year          Area    Production          Yield\n",
       "count  340414.000000  3.404140e+05  3.404140e+05  340414.000000\n",
       "mean     2008.884267  1.182535e+04  4.495196e+04       4.619515\n",
       "std         6.574831  4.612484e+04  3.779767e+05      23.403637\n",
       "min      1997.000000  8.000000e-03  0.000000e+00       0.000000\n",
       "25%      2003.000000  8.000000e+01  8.300000e+01       0.538462\n",
       "50%      2009.000000  5.630000e+02  6.910000e+02       1.000000\n",
       "75%      2015.000000  4.257000e+03  6.628000e+03       2.340059\n",
       "max      2020.000000  8.580100e+06  2.069354e+07    9801.000000"
      ]
     },
     "execution_count": 22,
     "metadata": {},
     "output_type": "execute_result"
    }
   ],
   "source": [
    "#Let’s examine the outliers.\n",
    "df.describe()"
   ]
  },
  {
   "cell_type": "code",
   "execution_count": 23,
   "id": "08cfb716",
   "metadata": {
    "execution": {
     "iopub.execute_input": "2024-10-04T10:44:01.164653Z",
     "iopub.status.busy": "2024-10-04T10:44:01.164223Z",
     "iopub.status.idle": "2024-10-04T10:44:01.181108Z",
     "shell.execute_reply": "2024-10-04T10:44:01.179893Z"
    },
    "papermill": {
     "duration": 0.043121,
     "end_time": "2024-10-04T10:44:01.183890",
     "exception": false,
     "start_time": "2024-10-04T10:44:01.140769",
     "status": "completed"
    },
    "tags": []
   },
   "outputs": [
    {
     "data": {
      "text/html": [
       "<div>\n",
       "<style scoped>\n",
       "    .dataframe tbody tr th:only-of-type {\n",
       "        vertical-align: middle;\n",
       "    }\n",
       "\n",
       "    .dataframe tbody tr th {\n",
       "        vertical-align: top;\n",
       "    }\n",
       "\n",
       "    .dataframe thead th {\n",
       "        text-align: right;\n",
       "    }\n",
       "</style>\n",
       "<table border=\"1\" class=\"dataframe\">\n",
       "  <thead>\n",
       "    <tr style=\"text-align: right;\">\n",
       "      <th></th>\n",
       "      <th>State</th>\n",
       "      <th>District</th>\n",
       "      <th>Crop</th>\n",
       "      <th>Year</th>\n",
       "      <th>Season</th>\n",
       "      <th>Area</th>\n",
       "      <th>Production</th>\n",
       "      <th>Yield</th>\n",
       "    </tr>\n",
       "  </thead>\n",
       "  <tbody>\n",
       "    <tr>\n",
       "      <th>0</th>\n",
       "      <td>Andaman and Nicobar Islands</td>\n",
       "      <td>NICOBARS</td>\n",
       "      <td>Arecanut</td>\n",
       "      <td>2001</td>\n",
       "      <td>Kharif</td>\n",
       "      <td>1254.0</td>\n",
       "      <td>2061.0</td>\n",
       "      <td>1.643541</td>\n",
       "    </tr>\n",
       "    <tr>\n",
       "      <th>1</th>\n",
       "      <td>Andaman and Nicobar Islands</td>\n",
       "      <td>NICOBARS</td>\n",
       "      <td>Arecanut</td>\n",
       "      <td>2002</td>\n",
       "      <td>Whole Year</td>\n",
       "      <td>1258.0</td>\n",
       "      <td>2083.0</td>\n",
       "      <td>1.655803</td>\n",
       "    </tr>\n",
       "    <tr>\n",
       "      <th>2</th>\n",
       "      <td>Andaman and Nicobar Islands</td>\n",
       "      <td>NICOBARS</td>\n",
       "      <td>Arecanut</td>\n",
       "      <td>2003</td>\n",
       "      <td>Whole Year</td>\n",
       "      <td>1261.0</td>\n",
       "      <td>1525.0</td>\n",
       "      <td>1.209358</td>\n",
       "    </tr>\n",
       "    <tr>\n",
       "      <th>3</th>\n",
       "      <td>Andaman and Nicobar Islands</td>\n",
       "      <td>NORTH AND MIDDLE ANDAMAN</td>\n",
       "      <td>Arecanut</td>\n",
       "      <td>2001</td>\n",
       "      <td>Kharif</td>\n",
       "      <td>3100.0</td>\n",
       "      <td>5239.0</td>\n",
       "      <td>1.690000</td>\n",
       "    </tr>\n",
       "    <tr>\n",
       "      <th>4</th>\n",
       "      <td>Andaman and Nicobar Islands</td>\n",
       "      <td>SOUTH ANDAMANS</td>\n",
       "      <td>Arecanut</td>\n",
       "      <td>2002</td>\n",
       "      <td>Whole Year</td>\n",
       "      <td>3105.0</td>\n",
       "      <td>5267.0</td>\n",
       "      <td>1.696296</td>\n",
       "    </tr>\n",
       "  </tbody>\n",
       "</table>\n",
       "</div>"
      ],
      "text/plain": [
       "                         State                  District      Crop  Year  \\\n",
       "0  Andaman and Nicobar Islands                  NICOBARS  Arecanut  2001   \n",
       "1  Andaman and Nicobar Islands                  NICOBARS  Arecanut  2002   \n",
       "2  Andaman and Nicobar Islands                  NICOBARS  Arecanut  2003   \n",
       "3  Andaman and Nicobar Islands  NORTH AND MIDDLE ANDAMAN  Arecanut  2001   \n",
       "4  Andaman and Nicobar Islands            SOUTH ANDAMANS  Arecanut  2002   \n",
       "\n",
       "       Season    Area  Production     Yield  \n",
       "0      Kharif  1254.0      2061.0  1.643541  \n",
       "1  Whole Year  1258.0      2083.0  1.655803  \n",
       "2  Whole Year  1261.0      1525.0  1.209358  \n",
       "3      Kharif  3100.0      5239.0  1.690000  \n",
       "4  Whole Year  3105.0      5267.0  1.696296  "
      ]
     },
     "execution_count": 23,
     "metadata": {},
     "output_type": "execute_result"
    }
   ],
   "source": [
    "df.head()"
   ]
  },
  {
   "cell_type": "code",
   "execution_count": 24,
   "id": "4420ae4c",
   "metadata": {
    "execution": {
     "iopub.execute_input": "2024-10-04T10:44:01.227948Z",
     "iopub.status.busy": "2024-10-04T10:44:01.227437Z",
     "iopub.status.idle": "2024-10-04T10:44:10.206044Z",
     "shell.execute_reply": "2024-10-04T10:44:10.204514Z"
    },
    "papermill": {
     "duration": 9.006017,
     "end_time": "2024-10-04T10:44:10.210281",
     "exception": false,
     "start_time": "2024-10-04T10:44:01.204264",
     "status": "completed"
    },
    "tags": []
   },
   "outputs": [
    {
     "data": {
      "image/png": "[encoded data removed]",
      "text/plain": [
       "<Figure size 2400x1000 with 8 Axes>"
      ]
     },
     "metadata": {},
     "output_type": "display_data"
    }
   ],
   "source": [
    "fig, axes = plt.subplots(2, 4, figsize=(24, 10))\n",
    "\n",
    "for i, sutun in enumerate(df.columns[:8]): \n",
    "    ax = axes[i // 4, i % 4]  \n",
    "    df[sutun].hist(ax=ax, bins=5, edgecolor='black')\n",
    "    ax.set_title(f'Distribution of {sutun}')\n",
    "    ax.set_xlabel('Values')\n",
    "    ax.set_ylabel('Frequency')\n",
    "\n",
    "plt.tight_layout()\n",
    "plt.show()\n",
    "#There is an extreme right skewness, particularly in area, production, and yield."
   ]
  },
  {
   "cell_type": "code",
   "execution_count": 25,
   "id": "33678c9a",
   "metadata": {
    "execution": {
     "iopub.execute_input": "2024-10-04T10:44:10.257766Z",
     "iopub.status.busy": "2024-10-04T10:44:10.256664Z",
     "iopub.status.idle": "2024-10-04T10:44:16.184728Z",
     "shell.execute_reply": "2024-10-04T10:44:16.183367Z"
    },
    "papermill": {
     "duration": 5.954935,
     "end_time": "2024-10-04T10:44:16.187474",
     "exception": false,
     "start_time": "2024-10-04T10:44:10.232539",
     "status": "completed"
    },
    "tags": []
   },
   "outputs": [
    {
     "data": {
      "image/png": "[encoded data removed]",
      "text/plain": [
       "<Figure size 800x600 with 1 Axes>"
      ]
     },
     "metadata": {},
     "output_type": "display_data"
    }
   ],
   "source": [
    "district_counts = df['District'].value_counts()\n",
    "\n",
    "plt.figure(figsize=(8, 6))\n",
    "plt.bar(district_counts.index, district_counts.values)\n",
    "plt.xlabel('District')\n",
    "plt.ylabel('Count')\n",
    "plt.title('Histogram of the District column')\n",
    "plt.show()"
   ]
  },
  {
   "cell_type": "code",
   "execution_count": 26,
   "id": "9177bcdc",
   "metadata": {
    "execution": {
     "iopub.execute_input": "2024-10-04T10:44:16.236692Z",
     "iopub.status.busy": "2024-10-04T10:44:16.236255Z",
     "iopub.status.idle": "2024-10-04T10:44:16.261563Z",
     "shell.execute_reply": "2024-10-04T10:44:16.260545Z"
    },
    "papermill": {
     "duration": 0.053979,
     "end_time": "2024-10-04T10:44:16.264277",
     "exception": false,
     "start_time": "2024-10-04T10:44:16.210298",
     "status": "completed"
    },
    "tags": []
   },
   "outputs": [],
   "source": [
    "#I applied a logarithmic transformation to Production and Area because they were extremely right-skewed.\n",
    "#Since Yield has many values in the 0-1 range, applying a logarithmic transformation significantly distorts the feature.\n",
    "df['Area'] = np.log1p(df['Area'])\n",
    "df['Production'] = np.log1p(df['Production'])"
   ]
  },
  {
   "cell_type": "code",
   "execution_count": 27,
   "id": "7f8b066d",
   "metadata": {
    "execution": {
     "iopub.execute_input": "2024-10-04T10:44:16.311955Z",
     "iopub.status.busy": "2024-10-04T10:44:16.310946Z",
     "iopub.status.idle": "2024-10-04T10:44:16.893043Z",
     "shell.execute_reply": "2024-10-04T10:44:16.891723Z"
    },
    "papermill": {
     "duration": 0.608792,
     "end_time": "2024-10-04T10:44:16.895700",
     "exception": false,
     "start_time": "2024-10-04T10:44:16.286908",
     "status": "completed"
    },
    "tags": []
   },
   "outputs": [
    {
     "data": {
      "image/png": "[encoded data removed]",
      "text/plain": [
       "<Figure size 1000x500 with 2 Axes>"
      ]
     },
     "metadata": {},
     "output_type": "display_data"
    }
   ],
   "source": [
    "fig, axes = plt.subplots(1, 2, figsize=(10, 5))\n",
    "\n",
    "for i, sutun in enumerate(['Production','Area']):\n",
    "    ax = axes[i]  \n",
    "    df[sutun].hist(ax=ax, bins=5, edgecolor='black')\n",
    "    ax.set_title(f'Disttribution of {sutun}')\n",
    "    ax.set_xlabel('Values')\n",
    "    ax.set_ylabel('Frequency')\n",
    "\n",
    "plt.tight_layout()\n",
    "plt.show()"
   ]
  },
  {
   "cell_type": "code",
   "execution_count": 28,
   "id": "184c1e0f",
   "metadata": {
    "execution": {
     "iopub.execute_input": "2024-10-04T10:44:16.944483Z",
     "iopub.status.busy": "2024-10-04T10:44:16.944088Z",
     "iopub.status.idle": "2024-10-04T10:44:18.074221Z",
     "shell.execute_reply": "2024-10-04T10:44:18.072976Z"
    },
    "papermill": {
     "duration": 1.15847,
     "end_time": "2024-10-04T10:44:18.077256",
     "exception": false,
     "start_time": "2024-10-04T10:44:16.918786",
     "status": "completed"
    },
    "tags": []
   },
   "outputs": [],
   "source": [
    "#Examine outliers for categorical data.\n",
    "\n",
    "columns = ['District','Crop']\n",
    "labels = {'District': 'diğer1', 'Crop': 'diğer2'}\n",
    "for i in columns:\n",
    "    alt_frekans_degeri = df[i].value_counts().quantile(0.05)\n",
    "    frekanslar = df[i].value_counts()\n",
    "    nadir_kategorikler = frekanslar[frekanslar<alt_frekans_degeri].index\n",
    "    df[i] = df[i].replace(nadir_kategorikler,labels[i])\n",
    "    \n",
    "#I’m not applying it to Season because it contains only one categorical variable, which would make it meaningless (turning \"Winter\" into \"Other\" is very nonsensical)."
   ]
  },
  {
   "cell_type": "code",
   "execution_count": 29,
   "id": "4c03f207",
   "metadata": {
    "execution": {
     "iopub.execute_input": "2024-10-04T10:44:18.125896Z",
     "iopub.status.busy": "2024-10-04T10:44:18.125457Z",
     "iopub.status.idle": "2024-10-04T10:44:18.369024Z",
     "shell.execute_reply": "2024-10-04T10:44:18.367748Z"
    },
    "papermill": {
     "duration": 0.270872,
     "end_time": "2024-10-04T10:44:18.371789",
     "exception": false,
     "start_time": "2024-10-04T10:44:18.100917",
     "status": "completed"
    },
    "tags": []
   },
   "outputs": [
    {
     "name": "stdout",
     "output_type": "stream",
     "text": [
      "(340414, 8)\n"
     ]
    },
    {
     "data": {
      "text/plain": [
       "(290076, 8)"
      ]
     },
     "execution_count": 29,
     "metadata": {},
     "output_type": "execute_result"
    }
   ],
   "source": [
    "#I conducted another outlier examination using the distance between quartiles.\n",
    "print(df.shape)\n",
    "liste = ['Area','Production','Year','Yield']\n",
    "for i in liste:\n",
    "    q1 = df[i].quantile(0.25)\n",
    "    q3 = df[i].quantile(0.75)\n",
    "    uzaklık = q3-q1\n",
    "    alt_sınır = q1 - (1.5*uzaklık)\n",
    "    üst_sınır = q3 + (1.5*uzaklık)\n",
    "    df = df[(df[i]>= alt_sınır) &(df[i]<= üst_sınır)]\n",
    "df.shape"
   ]
  },
  {
   "cell_type": "code",
   "execution_count": 30,
   "id": "36b652e4",
   "metadata": {
    "execution": {
     "iopub.execute_input": "2024-10-04T10:44:18.421830Z",
     "iopub.status.busy": "2024-10-04T10:44:18.420832Z",
     "iopub.status.idle": "2024-10-04T10:44:18.434780Z",
     "shell.execute_reply": "2024-10-04T10:44:18.433753Z"
    },
    "papermill": {
     "duration": 0.041685,
     "end_time": "2024-10-04T10:44:18.437476",
     "exception": false,
     "start_time": "2024-10-04T10:44:18.395791",
     "status": "completed"
    },
    "tags": []
   },
   "outputs": [],
   "source": [
    "scaler = StandardScaler()\n",
    "df['Area'] = scaler.fit_transform(df[['Area']])\n",
    "#Applying a standard scaler to Yield significantly distorts the feature. Therefore, I won’t scale it and will not use it for outlier examination going forward."
   ]
  },
  {
   "cell_type": "code",
   "execution_count": 31,
   "id": "91ab5ad5",
   "metadata": {
    "execution": {
     "iopub.execute_input": "2024-10-04T10:44:18.486581Z",
     "iopub.status.busy": "2024-10-04T10:44:18.486153Z",
     "iopub.status.idle": "2024-10-04T10:44:34.025828Z",
     "shell.execute_reply": "2024-10-04T10:44:34.024489Z"
    },
    "papermill": {
     "duration": 15.567532,
     "end_time": "2024-10-04T10:44:34.028577",
     "exception": false,
     "start_time": "2024-10-04T10:44:18.461045",
     "status": "completed"
    },
    "tags": []
   },
   "outputs": [
    {
     "name": "stderr",
     "output_type": "stream",
     "text": [
      "/opt/conda/lib/python3.10/site-packages/sklearn/base.py:439: UserWarning: X does not have valid feature names, but IsolationForest was fitted with feature names\n",
      "  warnings.warn(\n"
     ]
    },
    {
     "data": {
      "text/plain": [
       "(275573, 8)"
      ]
     },
     "execution_count": 31,
     "metadata": {},
     "output_type": "execute_result"
    }
   ],
   "source": [
    "from sklearn.ensemble import IsolationForest\n",
    "iso = IsolationForest(contamination = 0.05)\n",
    "columns = ['Production','Area']\n",
    "df_1 = df[columns]\n",
    "iso.fit(df_1)\n",
    "df['outliers_skor'] = iso.predict(df_1)\n",
    "df = df[df['outliers_skor'] != -1]\n",
    "df = df.drop('outliers_skor',axis = 1)\n",
    "df.shape"
   ]
  },
  {
   "cell_type": "code",
   "execution_count": 32,
   "id": "06b5886a",
   "metadata": {
    "execution": {
     "iopub.execute_input": "2024-10-04T10:44:34.078889Z",
     "iopub.status.busy": "2024-10-04T10:44:34.077586Z",
     "iopub.status.idle": "2024-10-04T10:44:40.915862Z",
     "shell.execute_reply": "2024-10-04T10:44:40.914670Z"
    },
    "papermill": {
     "duration": 6.86638,
     "end_time": "2024-10-04T10:44:40.918793",
     "exception": false,
     "start_time": "2024-10-04T10:44:34.052413",
     "status": "completed"
    },
    "tags": []
   },
   "outputs": [
    {
     "data": {
      "text/plain": [
       "(261992, 8)"
      ]
     },
     "execution_count": 32,
     "metadata": {},
     "output_type": "execute_result"
    }
   ],
   "source": [
    "p = df[['Production','Area']]\n",
    "kmeans = KMeans(n_clusters=2, n_init=10,random_state = 0)\n",
    "kmeans.fit(p)\n",
    "distances = np.min(np.linalg.norm(p.values[:,np.newaxis] - kmeans.cluster_centers_,axis = 2),axis = 1)\n",
    "threshold = np.percentile(distances,95) \n",
    "df = df[distances <= threshold]\n",
    "df.shape"
   ]
  },
  {
   "cell_type": "code",
   "execution_count": 33,
   "id": "77d39959",
   "metadata": {
    "execution": {
     "iopub.execute_input": "2024-10-04T10:44:40.969597Z",
     "iopub.status.busy": "2024-10-04T10:44:40.969124Z",
     "iopub.status.idle": "2024-10-04T10:44:41.754758Z",
     "shell.execute_reply": "2024-10-04T10:44:41.753556Z"
    },
    "papermill": {
     "duration": 0.814268,
     "end_time": "2024-10-04T10:44:41.757393",
     "exception": false,
     "start_time": "2024-10-04T10:44:40.943125",
     "status": "completed"
    },
    "tags": []
   },
   "outputs": [
    {
     "data": {
      "image/png": "[encoded data removed]",
      "text/plain": [
       "<Figure size 1400x600 with 2 Axes>"
      ]
     },
     "metadata": {},
     "output_type": "display_data"
    }
   ],
   "source": [
    "plt.figure(figsize=(14, 6))\n",
    "\n",
    "plt.subplot(1, 2, 1)\n",
    "plt.hist(df['Production'], bins=30, color='skyblue', edgecolor='black')\n",
    "plt.title('Distribution of Production')\n",
    "plt.xlabel('Production')\n",
    "plt.ylabel('frequency')\n",
    "\n",
    "plt.subplot(1, 2, 2)\n",
    "plt.hist(df['Area'], bins=30, color='lightgreen', edgecolor='black')\n",
    "plt.title('Distribution of Area')\n",
    "plt.xlabel('Area')\n",
    "plt.ylabel('frequency')\n",
    "\n",
    "plt.tight_layout()\n",
    "plt.show()"
   ]
  },
  {
   "cell_type": "code",
   "execution_count": 34,
   "id": "c2ae63bc",
   "metadata": {
    "execution": {
     "iopub.execute_input": "2024-10-04T10:44:41.810650Z",
     "iopub.status.busy": "2024-10-04T10:44:41.810216Z",
     "iopub.status.idle": "2024-10-04T10:44:41.837594Z",
     "shell.execute_reply": "2024-10-04T10:44:41.836390Z"
    },
    "papermill": {
     "duration": 0.05773,
     "end_time": "2024-10-04T10:44:41.840311",
     "exception": false,
     "start_time": "2024-10-04T10:44:41.782581",
     "status": "completed"
    },
    "tags": []
   },
   "outputs": [
    {
     "data": {
      "text/html": [
       "<div>\n",
       "<style scoped>\n",
       "    .dataframe tbody tr th:only-of-type {\n",
       "        vertical-align: middle;\n",
       "    }\n",
       "\n",
       "    .dataframe tbody tr th {\n",
       "        vertical-align: top;\n",
       "    }\n",
       "\n",
       "    .dataframe thead th {\n",
       "        text-align: right;\n",
       "    }\n",
       "</style>\n",
       "<table border=\"1\" class=\"dataframe\">\n",
       "  <thead>\n",
       "    <tr style=\"text-align: right;\">\n",
       "      <th></th>\n",
       "      <th>District</th>\n",
       "      <th>Crop</th>\n",
       "      <th>Season</th>\n",
       "      <th>Area</th>\n",
       "      <th>Production</th>\n",
       "    </tr>\n",
       "  </thead>\n",
       "  <tbody>\n",
       "    <tr>\n",
       "      <th>0</th>\n",
       "      <td>NICOBARS</td>\n",
       "      <td>Arecanut</td>\n",
       "      <td>Kharif</td>\n",
       "      <td>0.239973</td>\n",
       "      <td>7.631432</td>\n",
       "    </tr>\n",
       "    <tr>\n",
       "      <th>1</th>\n",
       "      <td>NICOBARS</td>\n",
       "      <td>Arecanut</td>\n",
       "      <td>Whole Year</td>\n",
       "      <td>0.241102</td>\n",
       "      <td>7.642044</td>\n",
       "    </tr>\n",
       "    <tr>\n",
       "      <th>2</th>\n",
       "      <td>NICOBARS</td>\n",
       "      <td>Arecanut</td>\n",
       "      <td>Whole Year</td>\n",
       "      <td>0.241946</td>\n",
       "      <td>7.330405</td>\n",
       "    </tr>\n",
       "    <tr>\n",
       "      <th>3</th>\n",
       "      <td>NORTH AND MIDDLE ANDAMAN</td>\n",
       "      <td>Arecanut</td>\n",
       "      <td>Kharif</td>\n",
       "      <td>0.560777</td>\n",
       "      <td>8.564077</td>\n",
       "    </tr>\n",
       "    <tr>\n",
       "      <th>4</th>\n",
       "      <td>SOUTH ANDAMANS</td>\n",
       "      <td>Arecanut</td>\n",
       "      <td>Whole Year</td>\n",
       "      <td>0.561348</td>\n",
       "      <td>8.569406</td>\n",
       "    </tr>\n",
       "  </tbody>\n",
       "</table>\n",
       "</div>"
      ],
      "text/plain": [
       "                   District      Crop      Season      Area  Production\n",
       "0                  NICOBARS  Arecanut      Kharif  0.239973    7.631432\n",
       "1                  NICOBARS  Arecanut  Whole Year  0.241102    7.642044\n",
       "2                  NICOBARS  Arecanut  Whole Year  0.241946    7.330405\n",
       "3  NORTH AND MIDDLE ANDAMAN  Arecanut      Kharif  0.560777    8.564077\n",
       "4            SOUTH ANDAMANS  Arecanut  Whole Year  0.561348    8.569406"
      ]
     },
     "execution_count": 34,
     "metadata": {},
     "output_type": "execute_result"
    }
   ],
   "source": [
    "#Since there is a strong relationship between State and District, and District has a higher relationship with Production, I am removing the State column.\n",
    "#I am removing Year because its relationship with Production is very low (0.003).\n",
    "#Since I can already calculate Yield from the given Production and Area values, including it from external sources might lead to inaccurate predictions by the model.\n",
    "df = df.drop(['State','Year','Yield'],axis = 1)\n",
    "df.head()"
   ]
  },
  {
   "cell_type": "code",
   "execution_count": 35,
   "id": "402b4253",
   "metadata": {
    "execution": {
     "iopub.execute_input": "2024-10-04T10:44:41.892699Z",
     "iopub.status.busy": "2024-10-04T10:44:41.892248Z",
     "iopub.status.idle": "2024-10-04T10:44:42.194765Z",
     "shell.execute_reply": "2024-10-04T10:44:42.193564Z"
    },
    "papermill": {
     "duration": 0.332193,
     "end_time": "2024-10-04T10:44:42.197447",
     "exception": false,
     "start_time": "2024-10-04T10:44:41.865254",
     "status": "completed"
    },
    "tags": []
   },
   "outputs": [
    {
     "data": {
      "text/html": [
       "<div>\n",
       "<style scoped>\n",
       "    .dataframe tbody tr th:only-of-type {\n",
       "        vertical-align: middle;\n",
       "    }\n",
       "\n",
       "    .dataframe tbody tr th {\n",
       "        vertical-align: top;\n",
       "    }\n",
       "\n",
       "    .dataframe thead th {\n",
       "        text-align: right;\n",
       "    }\n",
       "</style>\n",
       "<table border=\"1\" class=\"dataframe\">\n",
       "  <thead>\n",
       "    <tr style=\"text-align: right;\">\n",
       "      <th></th>\n",
       "      <th>Area</th>\n",
       "      <th>Production</th>\n",
       "      <th>District_24 PARAGANAS SOUTH</th>\n",
       "      <th>District_ADILABAD</th>\n",
       "      <th>District_AGAR MALWA</th>\n",
       "      <th>District_AGRA</th>\n",
       "      <th>District_AHMADABAD</th>\n",
       "      <th>District_AHMEDNAGAR</th>\n",
       "      <th>District_AIZAWL</th>\n",
       "      <th>District_AJMER</th>\n",
       "      <th>...</th>\n",
       "      <th>Crop_Sugarcane</th>\n",
       "      <th>Crop_Sunflower</th>\n",
       "      <th>Crop_Sweet potato</th>\n",
       "      <th>Crop_Tapioca</th>\n",
       "      <th>Crop_Tobacco</th>\n",
       "      <th>Crop_Turmeric</th>\n",
       "      <th>Crop_Urad</th>\n",
       "      <th>Crop_Wheat</th>\n",
       "      <th>Crop_diğer2</th>\n",
       "      <th>Crop_other oilseeds</th>\n",
       "    </tr>\n",
       "  </thead>\n",
       "  <tbody>\n",
       "    <tr>\n",
       "      <th>0</th>\n",
       "      <td>0.239973</td>\n",
       "      <td>7.631432</td>\n",
       "      <td>False</td>\n",
       "      <td>False</td>\n",
       "      <td>False</td>\n",
       "      <td>False</td>\n",
       "      <td>False</td>\n",
       "      <td>False</td>\n",
       "      <td>False</td>\n",
       "      <td>False</td>\n",
       "      <td>...</td>\n",
       "      <td>False</td>\n",
       "      <td>False</td>\n",
       "      <td>False</td>\n",
       "      <td>False</td>\n",
       "      <td>False</td>\n",
       "      <td>False</td>\n",
       "      <td>False</td>\n",
       "      <td>False</td>\n",
       "      <td>False</td>\n",
       "      <td>False</td>\n",
       "    </tr>\n",
       "    <tr>\n",
       "      <th>1</th>\n",
       "      <td>0.241102</td>\n",
       "      <td>7.642044</td>\n",
       "      <td>False</td>\n",
       "      <td>False</td>\n",
       "      <td>False</td>\n",
       "      <td>False</td>\n",
       "      <td>False</td>\n",
       "      <td>False</td>\n",
       "      <td>False</td>\n",
       "      <td>False</td>\n",
       "      <td>...</td>\n",
       "      <td>False</td>\n",
       "      <td>False</td>\n",
       "      <td>False</td>\n",
       "      <td>False</td>\n",
       "      <td>False</td>\n",
       "      <td>False</td>\n",
       "      <td>False</td>\n",
       "      <td>False</td>\n",
       "      <td>False</td>\n",
       "      <td>False</td>\n",
       "    </tr>\n",
       "    <tr>\n",
       "      <th>2</th>\n",
       "      <td>0.241946</td>\n",
       "      <td>7.330405</td>\n",
       "      <td>False</td>\n",
       "      <td>False</td>\n",
       "      <td>False</td>\n",
       "      <td>False</td>\n",
       "      <td>False</td>\n",
       "      <td>False</td>\n",
       "      <td>False</td>\n",
       "      <td>False</td>\n",
       "      <td>...</td>\n",
       "      <td>False</td>\n",
       "      <td>False</td>\n",
       "      <td>False</td>\n",
       "      <td>False</td>\n",
       "      <td>False</td>\n",
       "      <td>False</td>\n",
       "      <td>False</td>\n",
       "      <td>False</td>\n",
       "      <td>False</td>\n",
       "      <td>False</td>\n",
       "    </tr>\n",
       "    <tr>\n",
       "      <th>3</th>\n",
       "      <td>0.560777</td>\n",
       "      <td>8.564077</td>\n",
       "      <td>False</td>\n",
       "      <td>False</td>\n",
       "      <td>False</td>\n",
       "      <td>False</td>\n",
       "      <td>False</td>\n",
       "      <td>False</td>\n",
       "      <td>False</td>\n",
       "      <td>False</td>\n",
       "      <td>...</td>\n",
       "      <td>False</td>\n",
       "      <td>False</td>\n",
       "      <td>False</td>\n",
       "      <td>False</td>\n",
       "      <td>False</td>\n",
       "      <td>False</td>\n",
       "      <td>False</td>\n",
       "      <td>False</td>\n",
       "      <td>False</td>\n",
       "      <td>False</td>\n",
       "    </tr>\n",
       "    <tr>\n",
       "      <th>4</th>\n",
       "      <td>0.561348</td>\n",
       "      <td>8.569406</td>\n",
       "      <td>False</td>\n",
       "      <td>False</td>\n",
       "      <td>False</td>\n",
       "      <td>False</td>\n",
       "      <td>False</td>\n",
       "      <td>False</td>\n",
       "      <td>False</td>\n",
       "      <td>False</td>\n",
       "      <td>...</td>\n",
       "      <td>False</td>\n",
       "      <td>False</td>\n",
       "      <td>False</td>\n",
       "      <td>False</td>\n",
       "      <td>False</td>\n",
       "      <td>False</td>\n",
       "      <td>False</td>\n",
       "      <td>False</td>\n",
       "      <td>False</td>\n",
       "      <td>False</td>\n",
       "    </tr>\n",
       "  </tbody>\n",
       "</table>\n",
       "<p>5 rows × 753 columns</p>\n",
       "</div>"
      ],
      "text/plain": [
       "       Area  Production  District_24 PARAGANAS SOUTH  District_ADILABAD  \\\n",
       "0  0.239973    7.631432                        False              False   \n",
       "1  0.241102    7.642044                        False              False   \n",
       "2  0.241946    7.330405                        False              False   \n",
       "3  0.560777    8.564077                        False              False   \n",
       "4  0.561348    8.569406                        False              False   \n",
       "\n",
       "   District_AGAR MALWA  District_AGRA  District_AHMADABAD  \\\n",
       "0                False          False               False   \n",
       "1                False          False               False   \n",
       "2                False          False               False   \n",
       "3                False          False               False   \n",
       "4                False          False               False   \n",
       "\n",
       "   District_AHMEDNAGAR  District_AIZAWL  District_AJMER  ...  Crop_Sugarcane  \\\n",
       "0                False            False           False  ...           False   \n",
       "1                False            False           False  ...           False   \n",
       "2                False            False           False  ...           False   \n",
       "3                False            False           False  ...           False   \n",
       "4                False            False           False  ...           False   \n",
       "\n",
       "   Crop_Sunflower  Crop_Sweet potato  Crop_Tapioca  Crop_Tobacco  \\\n",
       "0           False              False         False         False   \n",
       "1           False              False         False         False   \n",
       "2           False              False         False         False   \n",
       "3           False              False         False         False   \n",
       "4           False              False         False         False   \n",
       "\n",
       "   Crop_Turmeric  Crop_Urad  Crop_Wheat  Crop_diğer2  Crop_other oilseeds  \n",
       "0          False      False       False        False                False  \n",
       "1          False      False       False        False                False  \n",
       "2          False      False       False        False                False  \n",
       "3          False      False       False        False                False  \n",
       "4          False      False       False        False                False  \n",
       "\n",
       "[5 rows x 753 columns]"
      ]
     },
     "execution_count": 35,
     "metadata": {},
     "output_type": "execute_result"
    }
   ],
   "source": [
    "df = pd.get_dummies(df,columns =['District','Season','Crop'],drop_first = True)\n",
    "df.head()"
   ]
  },
  {
   "cell_type": "code",
   "execution_count": 36,
   "id": "5fbe080f",
   "metadata": {
    "execution": {
     "iopub.execute_input": "2024-10-04T10:44:42.251363Z",
     "iopub.status.busy": "2024-10-04T10:44:42.250960Z",
     "iopub.status.idle": "2024-10-04T10:44:42.936958Z",
     "shell.execute_reply": "2024-10-04T10:44:42.935845Z"
    },
    "papermill": {
     "duration": 0.716603,
     "end_time": "2024-10-04T10:44:42.939633",
     "exception": false,
     "start_time": "2024-10-04T10:44:42.223030",
     "status": "completed"
    },
    "tags": []
   },
   "outputs": [
    {
     "data": {
      "text/html": [
       "<div>\n",
       "<style scoped>\n",
       "    .dataframe tbody tr th:only-of-type {\n",
       "        vertical-align: middle;\n",
       "    }\n",
       "\n",
       "    .dataframe tbody tr th {\n",
       "        vertical-align: top;\n",
       "    }\n",
       "\n",
       "    .dataframe thead th {\n",
       "        text-align: right;\n",
       "    }\n",
       "</style>\n",
       "<table border=\"1\" class=\"dataframe\">\n",
       "  <thead>\n",
       "    <tr style=\"text-align: right;\">\n",
       "      <th></th>\n",
       "      <th>District_24 PARAGANAS SOUTH</th>\n",
       "      <th>District_ADILABAD</th>\n",
       "      <th>District_AGAR MALWA</th>\n",
       "      <th>District_AGRA</th>\n",
       "      <th>District_AHMADABAD</th>\n",
       "      <th>District_AHMEDNAGAR</th>\n",
       "      <th>District_AIZAWL</th>\n",
       "      <th>District_AJMER</th>\n",
       "      <th>District_AKOLA</th>\n",
       "      <th>District_ALAPPUZHA</th>\n",
       "      <th>...</th>\n",
       "      <th>Crop_Sweet potato</th>\n",
       "      <th>Crop_Tapioca</th>\n",
       "      <th>Crop_Tobacco</th>\n",
       "      <th>Crop_Turmeric</th>\n",
       "      <th>Crop_Urad</th>\n",
       "      <th>Crop_Wheat</th>\n",
       "      <th>Crop_diğer2</th>\n",
       "      <th>Crop_other oilseeds</th>\n",
       "      <th>Area</th>\n",
       "      <th>Production</th>\n",
       "    </tr>\n",
       "  </thead>\n",
       "  <tbody>\n",
       "    <tr>\n",
       "      <th>0</th>\n",
       "      <td>0</td>\n",
       "      <td>0</td>\n",
       "      <td>0</td>\n",
       "      <td>0</td>\n",
       "      <td>0</td>\n",
       "      <td>0</td>\n",
       "      <td>0</td>\n",
       "      <td>0</td>\n",
       "      <td>0</td>\n",
       "      <td>0</td>\n",
       "      <td>...</td>\n",
       "      <td>0</td>\n",
       "      <td>0</td>\n",
       "      <td>0</td>\n",
       "      <td>0</td>\n",
       "      <td>0</td>\n",
       "      <td>0</td>\n",
       "      <td>0</td>\n",
       "      <td>0</td>\n",
       "      <td>0.239973</td>\n",
       "      <td>7.631432</td>\n",
       "    </tr>\n",
       "    <tr>\n",
       "      <th>1</th>\n",
       "      <td>0</td>\n",
       "      <td>0</td>\n",
       "      <td>0</td>\n",
       "      <td>0</td>\n",
       "      <td>0</td>\n",
       "      <td>0</td>\n",
       "      <td>0</td>\n",
       "      <td>0</td>\n",
       "      <td>0</td>\n",
       "      <td>0</td>\n",
       "      <td>...</td>\n",
       "      <td>0</td>\n",
       "      <td>0</td>\n",
       "      <td>0</td>\n",
       "      <td>0</td>\n",
       "      <td>0</td>\n",
       "      <td>0</td>\n",
       "      <td>0</td>\n",
       "      <td>0</td>\n",
       "      <td>0.241102</td>\n",
       "      <td>7.642044</td>\n",
       "    </tr>\n",
       "    <tr>\n",
       "      <th>2</th>\n",
       "      <td>0</td>\n",
       "      <td>0</td>\n",
       "      <td>0</td>\n",
       "      <td>0</td>\n",
       "      <td>0</td>\n",
       "      <td>0</td>\n",
       "      <td>0</td>\n",
       "      <td>0</td>\n",
       "      <td>0</td>\n",
       "      <td>0</td>\n",
       "      <td>...</td>\n",
       "      <td>0</td>\n",
       "      <td>0</td>\n",
       "      <td>0</td>\n",
       "      <td>0</td>\n",
       "      <td>0</td>\n",
       "      <td>0</td>\n",
       "      <td>0</td>\n",
       "      <td>0</td>\n",
       "      <td>0.241946</td>\n",
       "      <td>7.330405</td>\n",
       "    </tr>\n",
       "    <tr>\n",
       "      <th>3</th>\n",
       "      <td>0</td>\n",
       "      <td>0</td>\n",
       "      <td>0</td>\n",
       "      <td>0</td>\n",
       "      <td>0</td>\n",
       "      <td>0</td>\n",
       "      <td>0</td>\n",
       "      <td>0</td>\n",
       "      <td>0</td>\n",
       "      <td>0</td>\n",
       "      <td>...</td>\n",
       "      <td>0</td>\n",
       "      <td>0</td>\n",
       "      <td>0</td>\n",
       "      <td>0</td>\n",
       "      <td>0</td>\n",
       "      <td>0</td>\n",
       "      <td>0</td>\n",
       "      <td>0</td>\n",
       "      <td>0.560777</td>\n",
       "      <td>8.564077</td>\n",
       "    </tr>\n",
       "    <tr>\n",
       "      <th>4</th>\n",
       "      <td>0</td>\n",
       "      <td>0</td>\n",
       "      <td>0</td>\n",
       "      <td>0</td>\n",
       "      <td>0</td>\n",
       "      <td>0</td>\n",
       "      <td>0</td>\n",
       "      <td>0</td>\n",
       "      <td>0</td>\n",
       "      <td>0</td>\n",
       "      <td>...</td>\n",
       "      <td>0</td>\n",
       "      <td>0</td>\n",
       "      <td>0</td>\n",
       "      <td>0</td>\n",
       "      <td>0</td>\n",
       "      <td>0</td>\n",
       "      <td>0</td>\n",
       "      <td>0</td>\n",
       "      <td>0.561348</td>\n",
       "      <td>8.569406</td>\n",
       "    </tr>\n",
       "  </tbody>\n",
       "</table>\n",
       "<p>5 rows × 753 columns</p>\n",
       "</div>"
      ],
      "text/plain": [
       "   District_24 PARAGANAS SOUTH  District_ADILABAD  District_AGAR MALWA  \\\n",
       "0                            0                  0                    0   \n",
       "1                            0                  0                    0   \n",
       "2                            0                  0                    0   \n",
       "3                            0                  0                    0   \n",
       "4                            0                  0                    0   \n",
       "\n",
       "   District_AGRA  District_AHMADABAD  District_AHMEDNAGAR  District_AIZAWL  \\\n",
       "0              0                   0                    0                0   \n",
       "1              0                   0                    0                0   \n",
       "2              0                   0                    0                0   \n",
       "3              0                   0                    0                0   \n",
       "4              0                   0                    0                0   \n",
       "\n",
       "   District_AJMER  District_AKOLA  District_ALAPPUZHA  ...  Crop_Sweet potato  \\\n",
       "0               0               0                   0  ...                  0   \n",
       "1               0               0                   0  ...                  0   \n",
       "2               0               0                   0  ...                  0   \n",
       "3               0               0                   0  ...                  0   \n",
       "4               0               0                   0  ...                  0   \n",
       "\n",
       "   Crop_Tapioca  Crop_Tobacco  Crop_Turmeric  Crop_Urad  Crop_Wheat  \\\n",
       "0             0             0              0          0           0   \n",
       "1             0             0              0          0           0   \n",
       "2             0             0              0          0           0   \n",
       "3             0             0              0          0           0   \n",
       "4             0             0              0          0           0   \n",
       "\n",
       "   Crop_diğer2  Crop_other oilseeds      Area  Production  \n",
       "0            0                    0  0.239973    7.631432  \n",
       "1            0                    0  0.241102    7.642044  \n",
       "2            0                    0  0.241946    7.330405  \n",
       "3            0                    0  0.560777    8.564077  \n",
       "4            0                    0  0.561348    8.569406  \n",
       "\n",
       "[5 rows x 753 columns]"
      ]
     },
     "execution_count": 36,
     "metadata": {},
     "output_type": "execute_result"
    }
   ],
   "source": [
    "#To correct the true/false values, I extracted Area and Production, converted the data to integers, and then added them back.\n",
    "a = df['Production']\n",
    "b = df['Area']\n",
    "df = df.drop(['Production','Area'],axis = 1)\n",
    "df = df.astype(int)\n",
    "df['Area'] = b\n",
    "df['Production'] = a\n",
    "df.head()"
   ]
  },
  {
   "cell_type": "code",
   "execution_count": 37,
   "id": "67351613",
   "metadata": {
    "execution": {
     "iopub.execute_input": "2024-10-04T10:44:42.992579Z",
     "iopub.status.busy": "2024-10-04T10:44:42.992155Z",
     "iopub.status.idle": "2024-10-04T10:44:45.629147Z",
     "shell.execute_reply": "2024-10-04T10:44:45.628148Z"
    },
    "papermill": {
     "duration": 2.666797,
     "end_time": "2024-10-04T10:44:45.632075",
     "exception": false,
     "start_time": "2024-10-04T10:44:42.965278",
     "status": "completed"
    },
    "tags": []
   },
   "outputs": [],
   "source": [
    "x = df.drop('Production',axis = 1)\n",
    "y = df['Production']\n",
    "x_train,x_test,y_train,y_test = train_test_split(x,y,train_size = 0.8,random_state = 17)"
   ]
  },
  {
   "cell_type": "code",
   "execution_count": 38,
   "id": "70b4114e",
   "metadata": {
    "execution": {
     "iopub.execute_input": "2024-10-04T10:44:45.686924Z",
     "iopub.status.busy": "2024-10-04T10:44:45.686474Z",
     "iopub.status.idle": "2024-10-04T10:45:03.034201Z",
     "shell.execute_reply": "2024-10-04T10:45:03.032776Z"
    },
    "papermill": {
     "duration": 17.378758,
     "end_time": "2024-10-04T10:45:03.037128",
     "exception": false,
     "start_time": "2024-10-04T10:44:45.658370",
     "status": "completed"
    },
    "tags": []
   },
   "outputs": [
    {
     "name": "stdout",
     "output_type": "stream",
     "text": [
      "[LightGBM] [Warning] Found whitespace in feature_names, replace with underlines\n",
      "[LightGBM] [Info] Auto-choosing col-wise multi-threading, the overhead of testing was 0.030998 seconds.\n",
      "You can set `force_col_wise=true` to remove the overhead.\n",
      "[LightGBM] [Info] Total Bins 1757\n",
      "[LightGBM] [Info] Number of data points in the train set: 209593, number of used features: 752\n",
      "[LightGBM] [Warning] Found whitespace in feature_names, replace with underlines\n",
      "[LightGBM] [Info] Start training from score 6.223151\n",
      "Test score:  0.9676549760586103\n",
      "Train score:  0.9735614123124052\n"
     ]
    }
   ],
   "source": [
    "import lightgbm as lgbm\n",
    "model = lgbm.LGBMRegressor(boosting_type = 'gbdt',num_leaves = 100,learning_rate = 0.5,n_estimators =200,random_state = 33)\n",
    "model.fit(x_train,y_train,eval_set = [(x_test,y_test)],eval_metric = 'l2')\n",
    "print('Test score: ',model.score(x_test,y_test))\n",
    "print('Train score: ',model.score(x_train,y_train))"
   ]
  },
  {
   "cell_type": "code",
   "execution_count": 39,
   "id": "93a31628",
   "metadata": {
    "execution": {
     "iopub.execute_input": "2024-10-04T10:45:03.092039Z",
     "iopub.status.busy": "2024-10-04T10:45:03.091173Z",
     "iopub.status.idle": "2024-10-04T10:45:04.467887Z",
     "shell.execute_reply": "2024-10-04T10:45:04.466560Z"
    },
    "papermill": {
     "duration": 1.407077,
     "end_time": "2024-10-04T10:45:04.470746",
     "exception": false,
     "start_time": "2024-10-04T10:45:03.063669",
     "status": "completed"
    },
    "tags": []
   },
   "outputs": [
    {
     "name": "stdout",
     "output_type": "stream",
     "text": [
      "The mean absolute difference between the predictions and the actual values:  0.33457070533326216\n",
      "The mean of the squared differences between the predictions and the actual values:  0.4590749046796017\n",
      "Explained variance:  0.9676557821628881\n"
     ]
    }
   ],
   "source": [
    "y_pred = model.predict(x_test)\n",
    "artık = y_test - y_pred\n",
    "print('The mean absolute difference between the predictions and the actual values: ',mean_absolute_error(y_test,y_pred))\n",
    "print('The mean of the squared differences between the predictions and the actual values: ',np.sqrt(mean_squared_error(y_test,y_pred)))\n",
    "print('Explained variance: ',explained_variance_score(y_test,y_pred))"
   ]
  },
  {
   "cell_type": "code",
   "execution_count": 40,
   "id": "9586dfa0",
   "metadata": {
    "execution": {
     "iopub.execute_input": "2024-10-04T10:45:04.525628Z",
     "iopub.status.busy": "2024-10-04T10:45:04.525199Z",
     "iopub.status.idle": "2024-10-04T10:45:04.533262Z",
     "shell.execute_reply": "2024-10-04T10:45:04.531885Z"
    },
    "papermill": {
     "duration": 0.038167,
     "end_time": "2024-10-04T10:45:04.535766",
     "exception": false,
     "start_time": "2024-10-04T10:45:04.497599",
     "status": "completed"
    },
    "tags": []
   },
   "outputs": [
    {
     "name": "stdout",
     "output_type": "stream",
     "text": [
      "The lowest Production value:  1.0296194171811583\n",
      "The highest Production value:  11.767846714178527\n"
     ]
    }
   ],
   "source": [
    "print('The lowest Production value: ',y_test.min())\n",
    "print('The highest Production value: ',y_test.max())"
   ]
  },
  {
   "cell_type": "code",
   "execution_count": 41,
   "id": "9a0527b2",
   "metadata": {
    "execution": {
     "iopub.execute_input": "2024-10-04T10:45:04.590135Z",
     "iopub.status.busy": "2024-10-04T10:45:04.589695Z",
     "iopub.status.idle": "2024-10-04T10:45:04.597733Z",
     "shell.execute_reply": "2024-10-04T10:45:04.596454Z"
    },
    "papermill": {
     "duration": 0.038052,
     "end_time": "2024-10-04T10:45:04.600168",
     "exception": false,
     "start_time": "2024-10-04T10:45:04.562116",
     "status": "completed"
    },
    "tags": []
   },
   "outputs": [
    {
     "name": "stdout",
     "output_type": "stream",
     "text": [
      "The variance of the predicted values:  6.3084280879945185\n",
      "The variance of the actual values:  6.51580257241835\n"
     ]
    }
   ],
   "source": [
    "print('The variance of the predicted values: ',np.var(y_pred))\n",
    "print('The variance of the actual values: ',y_test.var())"
   ]
  },
  {
   "cell_type": "code",
   "execution_count": 42,
   "id": "1f0c0be1",
   "metadata": {
    "execution": {
     "iopub.execute_input": "2024-10-04T10:45:04.654693Z",
     "iopub.status.busy": "2024-10-04T10:45:04.654242Z",
     "iopub.status.idle": "2024-10-04T10:45:04.665766Z",
     "shell.execute_reply": "2024-10-04T10:45:04.664296Z"
    },
    "papermill": {
     "duration": 0.041591,
     "end_time": "2024-10-04T10:45:04.668235",
     "exception": false,
     "start_time": "2024-10-04T10:45:04.626644",
     "status": "completed"
    },
    "tags": []
   },
   "outputs": [
    {
     "name": "stdout",
     "output_type": "stream",
     "text": [
      "The total of positive residuals:  8705.541358343164\n",
      "The total of negative residuals:  -8825.629030414442\n"
     ]
    }
   ],
   "source": [
    "pozitif_artık = artık[artık>0]\n",
    "negatif_artık = artık[artık<0]\n",
    "print('The total of positive residuals: ',np.sum(pozitif_artık))\n",
    "print('The total of negative residuals: ',np.sum(negatif_artık))\n",
    "#9406\n",
    "#-9571"
   ]
  },
  {
   "cell_type": "code",
   "execution_count": 43,
   "id": "44134766",
   "metadata": {
    "execution": {
     "iopub.execute_input": "2024-10-04T10:45:04.723727Z",
     "iopub.status.busy": "2024-10-04T10:45:04.723300Z",
     "iopub.status.idle": "2024-10-04T10:45:05.176873Z",
     "shell.execute_reply": "2024-10-04T10:45:05.175646Z"
    },
    "papermill": {
     "duration": 0.485848,
     "end_time": "2024-10-04T10:45:05.181017",
     "exception": false,
     "start_time": "2024-10-04T10:45:04.695169",
     "status": "completed"
    },
    "tags": []
   },
   "outputs": [
    {
     "data": {
      "image/png": "[encoded data removed]",
      "text/plain": [
       "<Figure size 1000x600 with 1 Axes>"
      ]
     },
     "metadata": {},
     "output_type": "display_data"
    }
   ],
   "source": [
    "plt.figure(figsize = (10,6))\n",
    "plt.scatter(y_pred,artık,color = 'blue',edgecolor = 'k')\n",
    "plt.axhline(0,color = 'red',linestyle = '--',linewidth = 2)\n",
    "plt.xlabel('Predicted Values')\n",
    "plt.ylabel('Residuals')\n",
    "plt.show()"
   ]
  },
  {
   "cell_type": "code",
   "execution_count": 44,
   "id": "05aff1dd",
   "metadata": {
    "execution": {
     "iopub.execute_input": "2024-10-04T10:45:05.240764Z",
     "iopub.status.busy": "2024-10-04T10:45:05.240335Z",
     "iopub.status.idle": "2024-10-04T10:46:01.830083Z",
     "shell.execute_reply": "2024-10-04T10:46:01.828718Z"
    },
    "papermill": {
     "duration": 56.622169,
     "end_time": "2024-10-04T10:46:01.832683",
     "exception": false,
     "start_time": "2024-10-04T10:45:05.210514",
     "status": "completed"
    },
    "tags": []
   },
   "outputs": [
    {
     "name": "stdout",
     "output_type": "stream",
     "text": [
      "[LightGBM] [Warning] early_stopping_round is set=10, early_stopping_rounds=10 will be ignored. Current value: early_stopping_round=10\n",
      "[LightGBM] [Info] Auto-choosing col-wise multi-threading, the overhead of testing was 0.030036 seconds.\n",
      "You can set `force_col_wise=true` to remove the overhead.\n",
      "[LightGBM] [Info] Total Bins 1757\n",
      "[LightGBM] [Info] Number of data points in the train set: 209593, number of used features: 752\n",
      "[LightGBM] [Warning] early_stopping_round is set=10, early_stopping_rounds=10 will be ignored. Current value: early_stopping_round=10\n",
      "[LightGBM] [Info] Start training from score 6.220363\n",
      "Training until validation scores don't improve for 10 rounds\n",
      "Did not meet early stopping. Best iteration is:\n",
      "[100]\tvalid_0's l2: 0.262381\n",
      "Test Score:  0.9597639514614101\n",
      "Train Score:  0.961534778962397\n",
      "0.38251110239986386\n",
      "0.26238061464572543 \n",
      "\n",
      "[LightGBM] [Warning] early_stopping_round is set=10, early_stopping_rounds=10 will be ignored. Current value: early_stopping_round=10\n",
      "[LightGBM] [Info] Auto-choosing col-wise multi-threading, the overhead of testing was 0.025028 seconds.\n",
      "You can set `force_col_wise=true` to remove the overhead.\n",
      "[LightGBM] [Info] Total Bins 1757\n",
      "[LightGBM] [Info] Number of data points in the train set: 209593, number of used features: 752\n",
      "[LightGBM] [Warning] early_stopping_round is set=10, early_stopping_rounds=10 will be ignored. Current value: early_stopping_round=10\n",
      "[LightGBM] [Info] Start training from score 6.227477\n",
      "Training until validation scores don't improve for 10 rounds\n",
      "Did not meet early stopping. Best iteration is:\n",
      "[100]\tvalid_0's l2: 0.259102\n",
      "Test Score:  0.9602904201060529\n",
      "Train Score:  0.9615477755640658\n",
      "0.3801850334848227\n",
      "0.25910186239486466 \n",
      "\n",
      "[LightGBM] [Warning] early_stopping_round is set=10, early_stopping_rounds=10 will be ignored. Current value: early_stopping_round=10\n",
      "[LightGBM] [Info] Auto-choosing col-wise multi-threading, the overhead of testing was 0.024914 seconds.\n",
      "You can set `force_col_wise=true` to remove the overhead.\n",
      "[LightGBM] [Info] Total Bins 1757\n",
      "[LightGBM] [Info] Number of data points in the train set: 209594, number of used features: 752\n",
      "[LightGBM] [Warning] early_stopping_round is set=10, early_stopping_rounds=10 will be ignored. Current value: early_stopping_round=10\n",
      "[LightGBM] [Info] Start training from score 6.226824\n",
      "Training until validation scores don't improve for 10 rounds\n",
      "Did not meet early stopping. Best iteration is:\n",
      "[100]\tvalid_0's l2: 0.259725\n",
      "Test Score:  0.9601730428586969\n",
      "Train Score:  0.9616735746087047\n",
      "0.38054933470284147\n",
      "0.25972471000344 \n",
      "\n",
      "[LightGBM] [Warning] early_stopping_round is set=10, early_stopping_rounds=10 will be ignored. Current value: early_stopping_round=10\n",
      "[LightGBM] [Info] Auto-choosing col-wise multi-threading, the overhead of testing was 0.025128 seconds.\n",
      "You can set `force_col_wise=true` to remove the overhead.\n",
      "[LightGBM] [Info] Total Bins 1757\n",
      "[LightGBM] [Info] Number of data points in the train set: 209594, number of used features: 752\n",
      "[LightGBM] [Warning] early_stopping_round is set=10, early_stopping_rounds=10 will be ignored. Current value: early_stopping_round=10\n",
      "[LightGBM] [Info] Start training from score 6.224608\n",
      "Training until validation scores don't improve for 10 rounds\n",
      "Did not meet early stopping. Best iteration is:\n",
      "[100]\tvalid_0's l2: 0.25781\n",
      "Test Score:  0.9602838749324911\n",
      "Train Score:  0.9613764241427074\n",
      "0.38052498504508453\n",
      "0.25781034069739467 \n",
      "\n",
      "[LightGBM] [Warning] early_stopping_round is set=10, early_stopping_rounds=10 will be ignored. Current value: early_stopping_round=10\n",
      "[LightGBM] [Info] Auto-choosing col-wise multi-threading, the overhead of testing was 0.025290 seconds.\n",
      "You can set `force_col_wise=true` to remove the overhead.\n",
      "[LightGBM] [Info] Total Bins 1757\n",
      "[LightGBM] [Info] Number of data points in the train set: 209594, number of used features: 752\n",
      "[LightGBM] [Warning] early_stopping_round is set=10, early_stopping_rounds=10 will be ignored. Current value: early_stopping_round=10\n",
      "[LightGBM] [Info] Start training from score 6.220602\n",
      "Training until validation scores don't improve for 10 rounds\n",
      "Did not meet early stopping. Best iteration is:\n",
      "[100]\tvalid_0's l2: 0.256385\n",
      "Test Score:  0.9606474925591222\n",
      "Train Score:  0.9613291090540889\n",
      "0.3801162014768977\n",
      "0.25638490325968594 \n",
      "\n"
     ]
    }
   ],
   "source": [
    "#Finding the optimal train-test split\n",
    "import lightgbm as lgbm\n",
    "from sklearn.model_selection import KFold\n",
    "x = np.array(x)\n",
    "y = np.array(y)\n",
    "kf = KFold(n_splits = 5,shuffle = True,random_state = 0)\n",
    "\n",
    "for train,test in kf.split(x):\n",
    "    x_train,x_test = x[train],x[test]\n",
    "    y_train,y_test = y[train],y[test]\n",
    "    model = lgbm.LGBMRegressor(boosting_type = 'gbdt',num_leaves = 50,learning_rate = 0.21,early_stopping_rounds=10,n_estimators =100,random_state = 33)\n",
    "    model.fit(x_train,y_train,eval_set = [(x_test,y_test)],eval_metric = 'l2')\n",
    "    print('Test Score: ',model.score(x_test,y_test))\n",
    "    print('Train Score: ',model.score(x_train,y_train))\n",
    "    y_pred = model.predict(x_test)\n",
    "    print(mean_absolute_error(y_test,y_pred))\n",
    "    print(mean_squared_error(y_test,y_pred),'\\n')"
   ]
  },
  {
   "cell_type": "code",
   "execution_count": 45,
   "id": "5b4cb98e",
   "metadata": {
    "execution": {
     "iopub.execute_input": "2024-10-04T10:46:01.900791Z",
     "iopub.status.busy": "2024-10-04T10:46:01.900333Z",
     "iopub.status.idle": "2024-10-04T10:46:01.906942Z",
     "shell.execute_reply": "2024-10-04T10:46:01.905820Z"
    },
    "papermill": {
     "duration": 0.043752,
     "end_time": "2024-10-04T10:46:01.909359",
     "exception": false,
     "start_time": "2024-10-04T10:46:01.865607",
     "status": "completed"
    },
    "tags": []
   },
   "outputs": [],
   "source": [
    "#Tuning\n",
    "#I found the optimal parameters with the code above, but to save time, I will continue directly with the optimal parameters.\n",
    "#from sklearn.model_selection import GridSearchCV\n",
    "#import lightgbm as lgbm\n",
    "\n",
    "#modeller = {\n",
    "#    'LGBM_Regressor': {\n",
    "#        'model': lgbm.LGBMRegressor(),\n",
    "#        'params': {\n",
    "#            'n_estimators': [20, 40, 70, 100, 150, 200],\n",
    "#            'learning_rate': [0.1, 0.2, 0.3, 0.5],\n",
    "#            'num_leaves': [20, 40, 60, 80, 100],\n",
    "#            'max_depth': [50, 100, 200, 300]\n",
    "#        }\n",
    "#    }\n",
    "#}\n",
    "#\n",
    "#scores = []\n",
    "#for model_name, mp in modeller.items():\n",
    "#    print(f\"Training {model_name}...\")\n",
    "#    grid_search = GridSearchCV(mp['model'], mp['params'], cv=5, return_train_score=True)\n",
    "#    grid_search.fit(x_train, y_train)\n",
    "#    \n",
    "#    results = grid_search.cv_results_\n",
    "#    for mean_test_score, mean_train_score, params in zip(results['mean_test_score'], results['mean_train_score'], results['params']):\n",
    "#        scores.append({\n",
    "#            'model': model_name,\n",
    "#            'mean_test_score': mean_test_score,\n",
    "#            'mean_train_score': mean_train_score,\n",
    "#            'params': params\n",
    "#        })\n",
    "\n",
    "#for score in scores:\n",
    "#    print(f\"Model: {score['model']}\")\n",
    "#    print(f\"Mean Test Score: {score['mean_test_score']:.4f}\")\n",
    "#    print(f\"Mean Train Score: {score['mean_train_score']:.4f}\")\n",
    "#    print(f\"Parameters: {score['params']}\")\n",
    "#    print('-' * 60)"
   ]
  },
  {
   "cell_type": "code",
   "execution_count": 46,
   "id": "4f6b52cf",
   "metadata": {
    "execution": {
     "iopub.execute_input": "2024-10-04T10:46:01.975870Z",
     "iopub.status.busy": "2024-10-04T10:46:01.974823Z",
     "iopub.status.idle": "2024-10-04T10:46:10.987306Z",
     "shell.execute_reply": "2024-10-04T10:46:10.986013Z"
    },
    "papermill": {
     "duration": 9.048725,
     "end_time": "2024-10-04T10:46:10.989916",
     "exception": false,
     "start_time": "2024-10-04T10:46:01.941191",
     "status": "completed"
    },
    "tags": []
   },
   "outputs": [
    {
     "name": "stdout",
     "output_type": "stream",
     "text": [
      "[LightGBM] [Warning] early_stopping_round is set=10, early_stopping_rounds=10 will be ignored. Current value: early_stopping_round=10\n",
      "[LightGBM] [Info] Auto-choosing col-wise multi-threading, the overhead of testing was 0.025278 seconds.\n",
      "You can set `force_col_wise=true` to remove the overhead.\n",
      "[LightGBM] [Info] Total Bins 1757\n",
      "[LightGBM] [Info] Number of data points in the train set: 209594, number of used features: 752\n",
      "[LightGBM] [Warning] early_stopping_round is set=10, early_stopping_rounds=10 will be ignored. Current value: early_stopping_round=10\n",
      "[LightGBM] [Info] Start training from score 6.220602\n",
      "Training until validation scores don't improve for 10 rounds\n",
      "Did not meet early stopping. Best iteration is:\n",
      "[100]\tvalid_0's l2: 0.256429\n",
      "Test score:  0.9606406478743541\n",
      "Train score:  0.9613348573987819\n"
     ]
    }
   ],
   "source": [
    "model = lgbm.LGBMRegressor(boosting_type = 'gbdt',num_leaves = 50,learning_rate = 0.21,early_stopping_rounds=10,n_estimators =100,max_depth = 30,random_state = 33)\n",
    "model.fit(x_train,y_train,eval_set = [(x_test,y_test)],eval_metric = 'l2')\n",
    "print('Test score: ',model.score(x_test,y_test))\n",
    "print('Train score: ',model.score(x_train,y_train))"
   ]
  },
  {
   "cell_type": "code",
   "execution_count": 47,
   "id": "06407cb1",
   "metadata": {
    "execution": {
     "iopub.execute_input": "2024-10-04T10:46:11.057305Z",
     "iopub.status.busy": "2024-10-04T10:46:11.056874Z",
     "iopub.status.idle": "2024-10-04T10:46:11.083521Z",
     "shell.execute_reply": "2024-10-04T10:46:11.082236Z"
    },
    "papermill": {
     "duration": 0.063422,
     "end_time": "2024-10-04T10:46:11.086137",
     "exception": false,
     "start_time": "2024-10-04T10:46:11.022715",
     "status": "completed"
    },
    "tags": []
   },
   "outputs": [
    {
     "name": "stdout",
     "output_type": "stream",
     "text": [
      "Tahmin edilen üretim: 521.65391902922\n"
     ]
    }
   ],
   "source": [
    "#I predicted the production of a field based on its district, season, crop, and area\n",
    "def tek_tahmin(model, district, season, area, crop):\n",
    "    input_data = pd.DataFrame({\n",
    "        'District': [district],\n",
    "        'Season': [season],\n",
    "        'Area': [area]\n",
    "    })\n",
    "    \n",
    "    input_data = pd.get_dummies(input_data, columns=['District', 'Season'], drop_first=True)\n",
    "\n",
    "    model_features = model.booster_.feature_name()\n",
    "\n",
    "    missing_cols = list(set(model_features) - set(input_data.columns))\n",
    "    missing_data = pd.DataFrame(0, index=input_data.index, columns=missing_cols)\n",
    "    input_data = pd.concat([input_data, missing_data], axis=1)\n",
    "\n",
    "    input_data = input_data[model_features]\n",
    "\n",
    "    crops = [col for col in model_features if 'Crop_' in col]\n",
    "    for col in crops:\n",
    "        input_data[col] = 1 if col == f'Crop_{crop}' else 0\n",
    "\n",
    "    prediction = model.predict(input_data)\n",
    "\n",
    "    return prediction[0]\n",
    "\n",
    "district = 'NICOBARS'\n",
    "season = 'Whole Year'\n",
    "area = 100\n",
    "area = np.log1p(area)\n",
    "crop = 'Onion'\n",
    "\n",
    "tahmin_sonucu = tek_tahmin(model, district, season, area, crop)\n",
    "\n",
    "print(f\"Tahmin edilen üretim: {np.exp(tahmin_sonucu)-1}\")"
   ]
  }
 ],
 "metadata": {
  "kaggle": {
   "accelerator": "none",
   "dataSources": [
    {
     "datasetId": 1850858,
     "sourceId": 4976975,
     "sourceType": "datasetVersion"
    }
   ],
   "dockerImageVersionId": 30747,
   "isGpuEnabled": false,
   "isInternetEnabled": true,
   "language": "python",
   "sourceType": "notebook"
  },
  "kernelspec": {
   "display_name": "Python 3",
   "language": "python",
   "name": "python3"
  },
  "language_info": {
   "codemirror_mode": {
    "name": "ipython",
    "version": 3
   },
   "file_extension": ".py",
   "mimetype": "text/x-python",
   "name": "python",
   "nbconvert_exporter": "python",
   "pygments_lexer": "ipython3",
   "version": "3.10.13"
  },
  "papermill": {
   "default_parameters": {},
   "duration": 358.530687,
   "end_time": "2024-10-04T10:46:12.345105",
   "environment_variables": {},
   "exception": null,
   "input_path": "__notebook__.ipynb",
   "output_path": "__notebook__.ipynb",
   "parameters": {},
   "start_time": "2024-10-04T10:40:13.814418",
   "version": "2.5.0"
  }
 },
 "nbformat": 4,
 "nbformat_minor": 5
}
